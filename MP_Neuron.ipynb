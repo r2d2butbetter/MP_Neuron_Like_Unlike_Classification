{
 "cells": [
  {
   "cell_type": "markdown",
   "metadata": {},
   "source": [
    "# To use MPNeurons to predict whether a phone is likable or not"
   ]
  },
  {
   "cell_type": "markdown",
   "metadata": {},
   "source": [
    "### We First start by doing some data preprocessing and cleaning"
   ]
  },
  {
   "cell_type": "code",
   "execution_count": 38,
   "metadata": {},
   "outputs": [],
   "source": [
    "import numpy as np\n",
    "import pandas as pd\n",
    "import matplotlib.pyplot as plt\n",
    "from sklearn.preprocessing import LabelEncoder,MinMaxScaler, StandardScaler\n",
    "from sklearn.model_selection import train_test_split, ParameterGrid\n",
    "from sklearn.metrics import accuracy_score, confusion_matrix, mean_squared_error, log_loss\n",
    "import operator\n",
    "import json\n",
    "from IPython import display\n",
    "import os\n",
    "import warnings\n",
    "\n",
    "np.random.seed(0)\n",
    "warnings.filterwarnings(\"ignore\")\n",
    "THRESHOLD = 4"
   ]
  },
  {
   "cell_type": "markdown",
   "metadata": {},
   "source": [
    "Task: To predict whether the user likes the mobile phone or not. <br>\n",
    "Assumption: If the average rating of mobile >= threshold, then the user likes it, otherwise not."
   ]
  },
  {
   "cell_type": "markdown",
   "metadata": {},
   "source": [
    "<b>Missing values:</b><br>\n",
    "'Also Known As'(459),'Applications'(421),'Audio Features'(437),'Bezel-less display'(266),'Browser'(449),'Build Material'(338),'Co-Processor'(451),'Display Colour'(457),'Mobile High-Definition Link(MHL)'(472),'Music'(447)\n",
    "'Email','Fingerprint Sensor Position'(174),'Games'(446),'HDMI'(454),'Heart Rate Monitor'(467),'IRIS Scanner'(467),\n",
    "'Optical Image Stabilisation'(219),'Other Facilities'(444),'Phone Book'(444),'Physical Aperture'(87),'Quick Charging'(122),'Ring Tone'(444),'Ruggedness'(430),SAR Value(315),'SIM 3'(472),'SMS'(470)', 'Screen Protection'(229),'Screen to Body Ratio (claimed by the brand)'(428),'Sensor'(242),'Software Based Aperture'(473),\n",
    "'Special Features'(459),'Standby time'(334),'Stylus'(473),'TalkTime'(259), 'USB Type-C'(374),'Video Player'(456),\n",
    "'Video Recording Features'(458),'Waterproof'(398),'Wireless Charging','USB OTG Support'(159), 'Video ,'Recording'(113),'Java'(471),'Browser'(448)\n",
    "\n",
    "<b>Very low variance:</b><br>\n",
    "'Architecture'(most entries are 64-bit),'Audio Jack','GPS','Loudspeaker','Network','Network Support','Other Sensors'(28),'SIM Size', 'VoLTE'\n",
    "\n",
    "\n",
    "<b>Multivalued:</b><br>\n",
    "'Colours','Custom UI','Model'(1),'Other Sensors','Launch Date'\n",
    "\n",
    "<b>Not important:</b><br>\n",
    "'Bluetooth', 'Settings'(75),'Wi-Fi','Wi-Fi Features'\n",
    "\n",
    "<b>Doubtful:</b><br>\n",
    "'Aspect Ratio','Autofocus','Brand','Camera Features','Fingerprint Sensor'(very few entries are missing),\n",
    "'Fingerprint Sensor Position', 'Graphics'(multivalued),'Image resolution'(multivalued),'SIM Size','Sim Slot(s)', 'User Available Storage', 'SIM 1', 'SIM 2','Shooting Modes', 'Touch Screen'(24), 'USB Connectivity'\n",
    "    \n",
    "<b>To check:</b><br>\n",
    "'Display Type','Expandable Memory','FM Radio'\n",
    "\n",
    "<b>High Correlation with other features</b><br>\n",
    "'SIM Slot(s)' high correlation with SIM1\n",
    "'Weight' has high high correlation with capacity , screen-to-body ratio\n",
    "'Height' - screen size is also there\n",
    "    \n",
    "<b>Given a mobile, we can't directly get these features</b><br>\n",
    "'Rating Count', 'Review Count'\n",
    "\n",
    "<b>Keeping:</b><br>\n",
    "'Capacity','Flash'(17),'Height'(22),'Internal Memory'(20, require cleaning),'Operating System'(25, require cleaning), 'Pixel Density'(1, clean it),'Processor'(22, clean it), 'RAM'(17, clean), 'Rating','Resolution'(cleaning), 'Screen Resolution','Screen Size', 'Thickness'(22), 'Type','User Replaceable','Weight'(cleaning),'Sim Size'(), 'Other Sensors'(28), 'Screen to Body Ratio (calculated)','Width',\n"
   ]
  },
  {
   "cell_type": "code",
   "execution_count": 39,
   "metadata": {},
   "outputs": [
    {
     "name": "stdout",
     "output_type": "stream",
     "text": [
      "Number of data points in train: 355\n",
      "Number of features in train: 99\n",
      "Number of data points in test: 119\n",
      "Number of features in test: 98\n"
     ]
    }
   ],
   "source": [
    "# read data from file\n",
    "train = pd.read_csv(\"./input/train.csv\") \n",
    "test = pd.read_csv(\"./input/test.csv\")\n",
    "\n",
    "# check the number of features and data points in train\n",
    "print(\"Number of data points in train: %d\" % train.shape[0])\n",
    "print(\"Number of features in train: %d\" % train.shape[1])\n",
    "\n",
    "# check the number of features and data points in test\n",
    "print(\"Number of data points in test: %d\" % test.shape[0])\n",
    "print(\"Number of features in test: %d\" % test.shape[1])"
   ]
  },
  {
   "cell_type": "code",
   "execution_count": 40,
   "metadata": {},
   "outputs": [],
   "source": [
    "def data_clean(data):\n",
    "    \n",
    "    # Let's first remove all missing value features\n",
    "    columns_to_remove = ['Also Known As','Applications','Audio Features','Bezel-less display'\n",
    "                         'Browser','Build Material','Co-Processor','Browser'\n",
    "                         'Display Colour','Mobile High-Definition Link(MHL)',\n",
    "                         'Music', 'Email','Fingerprint Sensor Position',\n",
    "                         'Games','HDMI','Heart Rate Monitor','IRIS Scanner', \n",
    "                         'Optical Image Stabilisation','Other Facilities',\n",
    "                         'Phone Book','Physical Aperture','Quick Charging',\n",
    "                         'Ring Tone','Ruggedness','SAR Value','SIM 3','SMS',\n",
    "                         'Screen Protection','Screen to Body Ratio (claimed by the brand)',\n",
    "                         'Sensor','Software Based Aperture', 'Special Features',\n",
    "                         'Standby time','Stylus','TalkTime', 'USB Type-C',\n",
    "                         'Video Player', 'Video Recording Features','Waterproof',\n",
    "                         'Wireless Charging','USB OTG Support', 'Video Recording','Java']\n",
    "\n",
    "    columns_to_retain = list(set(data.columns)-set(columns_to_remove))\n",
    "    data = data[columns_to_retain]\n",
    "\n",
    "    #Features having very low variance \n",
    "    columns_to_remove = ['Architecture','Audio Jack','GPS','Loudspeaker','Network','Network Support','VoLTE']\n",
    "    columns_to_retain = list(set(data.columns)-set(columns_to_remove))\n",
    "    data = data[columns_to_retain]\n",
    "\n",
    "    # Multivalued:\n",
    "    columns_to_remove = ['Architecture','Launch Date','Audio Jack','GPS','Loudspeaker','Network','Network Support','VoLTE', 'Custom UI']\n",
    "    columns_to_retain = list(set(data.columns)-set(columns_to_remove))\n",
    "    data = data[columns_to_retain]\n",
    "\n",
    "    # Not much important\n",
    "    columns_to_remove = ['Bluetooth', 'Settings','Wi-Fi','Wi-Fi Features']\n",
    "    columns_to_retain = list(set(data.columns)-set(columns_to_remove))\n",
    "    data = data[columns_to_retain]\n",
    "    \n",
    "    return data"
   ]
  },
  {
   "cell_type": "markdown",
   "metadata": {},
   "source": [
    "# Removing features"
   ]
  },
  {
   "cell_type": "code",
   "execution_count": 41,
   "metadata": {},
   "outputs": [],
   "source": [
    "train = data_clean(train)\n",
    "test = data_clean(test)"
   ]
  },
  {
   "cell_type": "markdown",
   "metadata": {},
   "source": [
    "removing all those data points in which more than 15 features are missing "
   ]
  },
  {
   "cell_type": "code",
   "execution_count": 42,
   "metadata": {},
   "outputs": [],
   "source": [
    "train = train[(train.isnull().sum(axis=1) <= 15)]\n",
    "# You shouldn't remove data points from test set\n",
    "#test = test[(test.isnull().sum(axis=1) <= 15)]"
   ]
  },
  {
   "cell_type": "code",
   "execution_count": 43,
   "metadata": {},
   "outputs": [
    {
     "name": "stdout",
     "output_type": "stream",
     "text": [
      "Number of data points in train: 341\n",
      "Number of features in train: 47\n",
      "Number of data points in test: 119\n",
      "Number of features in test: 46\n"
     ]
    }
   ],
   "source": [
    "# check the number of features and data points in train\n",
    "print(\"Number of data points in train: %d\" % train.shape[0])\n",
    "print(\"Number of features in train: %d\" % train.shape[1])\n",
    "\n",
    "# check the number of features and data points in test\n",
    "print(\"Number of data points in test: %d\" % test.shape[0])\n",
    "print(\"Number of features in test: %d\" % test.shape[1])"
   ]
  },
  {
   "cell_type": "markdown",
   "metadata": {},
   "source": [
    "# Filling Missing values"
   ]
  },
  {
   "cell_type": "code",
   "execution_count": 44,
   "metadata": {},
   "outputs": [],
   "source": [
    "def for_integer(test):\n",
    "    try:\n",
    "        test = test.strip()\n",
    "        return int(test.split(' ')[0])\n",
    "    except IOError:\n",
    "           pass\n",
    "    except ValueError:\n",
    "        pass\n",
    "    except:\n",
    "        pass\n",
    "\n",
    "def for_string(test):\n",
    "    try:\n",
    "        test = test.strip()\n",
    "        return (test.split(' ')[0])\n",
    "    except IOError:\n",
    "        pass\n",
    "    except ValueError:\n",
    "        pass\n",
    "    except:\n",
    "        pass\n",
    "\n",
    "def for_float(test):\n",
    "    try:\n",
    "        test = test.strip()\n",
    "        return float(test.split(' ')[0])\n",
    "    except IOError:\n",
    "        pass\n",
    "    except ValueError:\n",
    "        pass\n",
    "    except:\n",
    "        pass\n",
    "def find_freq(test):\n",
    "    try:\n",
    "        test = test.strip()\n",
    "        test = test.split(' ')\n",
    "        if test[2][0] == '(':\n",
    "            return float(test[2][1:])\n",
    "        return float(test[2])\n",
    "    except IOError:\n",
    "        pass\n",
    "    except ValueError:\n",
    "        pass\n",
    "    except:\n",
    "        pass\n",
    "\n",
    "    \n",
    "def for_Internal_Memory(test):\n",
    "    try:\n",
    "        test = test.strip()\n",
    "        test = test.split(' ')\n",
    "        if test[1] == 'GB':\n",
    "            return int(test[0])\n",
    "        if test[1] == 'MB':\n",
    "#             print(\"here\")\n",
    "            return (int(test[0]) * 0.001)\n",
    "    except IOError:\n",
    "           pass\n",
    "    except ValueError:\n",
    "        pass\n",
    "    except:\n",
    "        pass\n",
    "    \n",
    "def find_freq(test):\n",
    "    try:\n",
    "        test = test.strip()\n",
    "        test = test.split(' ')\n",
    "        if test[2][0] == '(':\n",
    "            return float(test[2][1:])\n",
    "        return float(test[2])\n",
    "    except IOError:\n",
    "        pass\n",
    "    except ValueError:\n",
    "        pass\n",
    "    except:\n",
    "        pass\n"
   ]
  },
  {
   "cell_type": "code",
   "execution_count": 45,
   "metadata": {},
   "outputs": [],
   "source": [
    "def data_clean_2(x):\n",
    "    data = x.copy()\n",
    "    \n",
    "    data['Capacity'] = data['Capacity'].apply(for_integer)\n",
    "\n",
    "    data['Height'] = data['Height'].apply(for_float)\n",
    "    data['Height'] = data['Height'].fillna(data['Height'].mean())\n",
    "\n",
    "    data['Internal Memory'] = data['Internal Memory'].apply(for_Internal_Memory)\n",
    "\n",
    "    data['Pixel Density'] = data['Pixel Density'].apply(for_integer)\n",
    "\n",
    "    data['Internal Memory'] = data['Internal Memory'].fillna(data['Internal Memory'].median())\n",
    "    data['Internal Memory'] = data['Internal Memory'].astype(int)\n",
    "\n",
    "    data['RAM'] = data['RAM'].apply(for_integer)\n",
    "    data['RAM'] = data['RAM'].fillna(data['RAM'].median())\n",
    "    data['RAM'] = data['RAM'].astype(int)\n",
    "\n",
    "    data['Resolution'] = data['Resolution'].apply(for_integer)\n",
    "    data['Resolution'] = data['Resolution'].fillna(data['Resolution'].median())\n",
    "    data['Resolution'] = data['Resolution'].astype(int)\n",
    "\n",
    "    data['Screen Size'] = data['Screen Size'].apply(for_float)\n",
    "\n",
    "    data['Thickness'] = data['Thickness'].apply(for_float)\n",
    "    data['Thickness'] = data['Thickness'].fillna(data['Thickness'].mean())\n",
    "    data['Thickness'] = data['Thickness'].round(2)\n",
    "\n",
    "    data['Type'] = data['Type'].fillna('Li-Polymer')\n",
    "\n",
    "    data['Screen to Body Ratio (calculated)'] = data['Screen to Body Ratio (calculated)'].apply(for_float)\n",
    "    data['Screen to Body Ratio (calculated)'] = data['Screen to Body Ratio (calculated)'].fillna(data['Screen to Body Ratio (calculated)'].mean())\n",
    "    data['Screen to Body Ratio (calculated)'] = data['Screen to Body Ratio (calculated)'].round(2)\n",
    "\n",
    "    data['Width'] = data['Width'].apply(for_float)\n",
    "    data['Width'] = data['Width'].fillna(data['Width'].mean())\n",
    "    data['Width'] = data['Width'].round(2)\n",
    "\n",
    "    data['Flash'][data['Flash'].isna() == True] = \"Other\"\n",
    "\n",
    "    data['User Replaceable'][data['User Replaceable'].isna() == True] = \"Other\"\n",
    "\n",
    "    data['Num_cores'] = data['Processor'].apply(for_string)\n",
    "    data['Num_cores'][data['Num_cores'].isna() == True] = \"Other\"\n",
    "\n",
    "\n",
    "    data['Processor_frequency'] = data['Processor'].apply(find_freq)\n",
    "    #because there is one entry with 208MHz values, to convert it to GHz\n",
    "    data['Processor_frequency'][data['Processor_frequency'] > 200] = 0.208\n",
    "    data['Processor_frequency'] = data['Processor_frequency'].fillna(data['Processor_frequency'].mean())\n",
    "    data['Processor_frequency'] = data['Processor_frequency'].round(2)\n",
    "\n",
    "    data['Camera Features'][data['Camera Features'].isna() == True] = \"Other\"\n",
    "\n",
    "    #simplifyig Operating System to os_name for simplicity\n",
    "    data['os_name'] = data['Operating System'].apply(for_string)\n",
    "    data['os_name'][data['os_name'].isna() == True] = \"Other\"\n",
    "\n",
    "    data['Sim1'] = data['SIM 1'].apply(for_string)\n",
    "\n",
    "    data['SIM Size'][data['SIM Size'].isna() == True] = \"Other\"\n",
    "\n",
    "    data['Image Resolution'][data['Image Resolution'].isna() == True] = \"Other\"\n",
    "\n",
    "    data['Fingerprint Sensor'][data['Fingerprint Sensor'].isna() == True] = \"Other\"\n",
    "\n",
    "    data['Expandable Memory'][data['Expandable Memory'].isna() == True] = \"No\"\n",
    "\n",
    "    data['Weight'] = data['Weight'].apply(for_integer)\n",
    "    data['Weight'] = data['Weight'].fillna(data['Weight'].mean())\n",
    "    data['Weight'] = data['Weight'].astype(int)\n",
    "\n",
    "    data['SIM 2'] = data['SIM 2'].apply(for_string)\n",
    "    data['SIM 2'][data['SIM 2'].isna() == True] = \"Other\"\n",
    "    \n",
    "    return data"
   ]
  },
  {
   "cell_type": "code",
   "execution_count": 46,
   "metadata": {},
   "outputs": [
    {
     "name": "stdout",
     "output_type": "stream",
     "text": [
      "Number of data points in train: 341\n",
      "Number of features in train: 51\n",
      "Number of data points in test: 119\n",
      "Number of features in test: 50\n"
     ]
    }
   ],
   "source": [
    "train = data_clean_2(train)\n",
    "test = data_clean_2(test)\n",
    "\n",
    "# check the number of features and data points in train\n",
    "print(\"Number of data points in train: %d\" % train.shape[0])\n",
    "print(\"Number of features in train: %d\" % train.shape[1])\n",
    "\n",
    "# check the number of features and data points in test\n",
    "print(\"Number of data points in test: %d\" % test.shape[0])\n",
    "print(\"Number of features in test: %d\" % test.shape[1])"
   ]
  },
  {
   "cell_type": "markdown",
   "metadata": {},
   "source": [
    "Not very important feature"
   ]
  },
  {
   "cell_type": "code",
   "execution_count": 47,
   "metadata": {},
   "outputs": [],
   "source": [
    "def data_clean_3(x):\n",
    "    \n",
    "    data = x.copy()\n",
    "\n",
    "    columns_to_remove = ['User Available Storage','SIM Size','Chipset','Processor','Autofocus','Aspect Ratio','Touch Screen',\n",
    "                        'Bezel-less display','Operating System','SIM 1','USB Connectivity','Other Sensors','Graphics','FM Radio',\n",
    "                        'NFC','Shooting Modes','Browser','Display Colour' ]\n",
    "\n",
    "    columns_to_retain = list(set(data.columns)-set(columns_to_remove))\n",
    "    data = data[columns_to_retain]\n",
    "\n",
    "\n",
    "    columns_to_remove = [ 'Screen Resolution','User Replaceable','Camera Features',\n",
    "                        'Thickness', 'Display Type']\n",
    "\n",
    "    columns_to_retain = list(set(data.columns)-set(columns_to_remove))\n",
    "    data = data[columns_to_retain]\n",
    "\n",
    "\n",
    "    columns_to_remove = ['Fingerprint Sensor', 'Flash', 'Rating Count', 'Review Count','Image Resolution','Type','Expandable Memory',\\\n",
    "                        'Colours','Width','Model']\n",
    "    columns_to_retain = list(set(data.columns)-set(columns_to_remove))\n",
    "    data = data[columns_to_retain]\n",
    "\n",
    "    return data"
   ]
  },
  {
   "cell_type": "code",
   "execution_count": 48,
   "metadata": {},
   "outputs": [
    {
     "name": "stdout",
     "output_type": "stream",
     "text": [
      "Number of data points in train: 341\n",
      "Number of features in train: 18\n",
      "Number of data points in test: 119\n",
      "Number of features in test: 17\n"
     ]
    }
   ],
   "source": [
    "train = data_clean_3(train)\n",
    "test = data_clean_3(test)\n",
    "\n",
    "# check the number of features and data points in train\n",
    "print(\"Number of data points in train: %d\" % train.shape[0])\n",
    "print(\"Number of features in train: %d\" % train.shape[1])\n",
    "\n",
    "# check the number of features and data points in test\n",
    "print(\"Number of data points in test: %d\" % test.shape[0])\n",
    "print(\"Number of features in test: %d\" % test.shape[1])"
   ]
  },
  {
   "cell_type": "code",
   "execution_count": 49,
   "metadata": {},
   "outputs": [
    {
     "name": "stdout",
     "output_type": "stream",
     "text": [
      "(460, 17)\n",
      "Index(['PhoneId', 'os_name', 'Resolution', 'Internal Memory', 'Height',\n",
      "       'Num_cores', 'Weight', 'SIM Slot(s)', 'Screen Size', 'RAM', 'Sim1',\n",
      "       'SIM 2', 'Capacity', 'Pixel Density', 'Processor_frequency',\n",
      "       'Screen to Body Ratio (calculated)', 'Brand'],\n",
      "      dtype='object')\n",
      "(460, 87)\n",
      "Index(['PhoneId', 'Resolution', 'Internal Memory', 'Height', 'Weight',\n",
      "       'Screen Size', 'RAM', 'Capacity', 'Pixel Density',\n",
      "       'Processor_frequency', 'Screen to Body Ratio (calculated)',\n",
      "       'os_name_Android', 'os_name_Blackberry', 'os_name_KAI', 'os_name_Nokia',\n",
      "       'os_name_Other', 'os_name_Tizen', 'os_name_iOS', 'Num_cores_312',\n",
      "       'Num_cores_Deca', 'Num_cores_Dual', 'Num_cores_Hexa', 'Num_cores_Octa',\n",
      "       'Num_cores_Other', 'Num_cores_Quad', 'Num_cores_Tru-Octa',\n",
      "       'SIM Slot(s)_Dual SIM, GSM+CDMA', 'SIM Slot(s)_Dual SIM, GSM+GSM',\n",
      "       'SIM Slot(s)_Dual SIM, GSM+GSM, Dual VoLTE',\n",
      "       'SIM Slot(s)_Single SIM, GSM', 'Sim1_2G', 'Sim1_3G', 'Sim1_4G',\n",
      "       'SIM 2_2G', 'SIM 2_3G', 'SIM 2_4G', 'SIM 2_Other', 'Brand_10.or',\n",
      "       'Brand_Apple', 'Brand_Asus', 'Brand_Billion', 'Brand_Blackberry',\n",
      "       'Brand_Comio', 'Brand_Coolpad', 'Brand_Do', 'Brand_Gionee',\n",
      "       'Brand_Google', 'Brand_HTC', 'Brand_Honor', 'Brand_Huawei',\n",
      "       'Brand_InFocus', 'Brand_Infinix', 'Brand_Intex', 'Brand_Itel',\n",
      "       'Brand_Jivi', 'Brand_Karbonn', 'Brand_LG', 'Brand_Lava', 'Brand_LeEco',\n",
      "       'Brand_Lenovo', 'Brand_Lephone', 'Brand_Lyf', 'Brand_Meizu',\n",
      "       'Brand_Micromax', 'Brand_Mobiistar', 'Brand_Moto', 'Brand_Motorola',\n",
      "       'Brand_Nokia', 'Brand_Nubia', 'Brand_OPPO', 'Brand_OnePlus',\n",
      "       'Brand_Oppo', 'Brand_Panasonic', 'Brand_Razer', 'Brand_Realme',\n",
      "       'Brand_Reliance', 'Brand_Samsung', 'Brand_Sony', 'Brand_Spice',\n",
      "       'Brand_Tecno', 'Brand_Ulefone', 'Brand_VOTO', 'Brand_Vivo',\n",
      "       'Brand_Xiaomi', 'Brand_Xiaomi Poco', 'Brand_Yu', 'Brand_iVooMi'],\n",
      "      dtype='object')\n"
     ]
    }
   ],
   "source": [
    "# one hot encoding\n",
    "\n",
    "train_ids = train['PhoneId']\n",
    "test_ids = test['PhoneId']\n",
    "\n",
    "cols = list(test.columns)\n",
    "cols.remove('PhoneId')\n",
    "cols.insert(0, 'PhoneId')\n",
    "\n",
    "combined = pd.concat([train.drop('Rating', axis=1)[cols], test[cols]])\n",
    "print(combined.shape)\n",
    "print(combined.columns)\n",
    "\n",
    "combined = pd.get_dummies(combined)\n",
    "print(combined.shape)\n",
    "print(combined.columns)\n",
    "\n",
    "train_new = combined[combined['PhoneId'].isin(train_ids)]\n",
    "test_new = combined[combined['PhoneId'].isin(test_ids)]"
   ]
  },
  {
   "cell_type": "code",
   "execution_count": 50,
   "metadata": {},
   "outputs": [],
   "source": [
    "train_new = train_new.merge(train[['PhoneId', 'Rating']], on='PhoneId')"
   ]
  },
  {
   "cell_type": "code",
   "execution_count": 51,
   "metadata": {},
   "outputs": [
    {
     "name": "stdout",
     "output_type": "stream",
     "text": [
      "Number of data points in train: 341\n",
      "Number of features in train: 88\n",
      "Number of data points in test: 119\n",
      "Number of features in test: 87\n"
     ]
    }
   ],
   "source": [
    "# check the number of features and data points in train\n",
    "print(\"Number of data points in train: %d\" % train_new.shape[0])\n",
    "print(\"Number of features in train: %d\" % train_new.shape[1])\n",
    "\n",
    "# check the number of features and data points in test\n",
    "print(\"Number of data points in test: %d\" % test_new.shape[0])\n",
    "print(\"Number of features in test: %d\" % test_new.shape[1])"
   ]
  },
  {
   "cell_type": "code",
   "execution_count": 52,
   "metadata": {},
   "outputs": [
    {
     "data": {
      "application/vnd.microsoft.datawrangler.viewer.v0+json": {
       "columns": [
        {
         "name": "index",
         "rawType": "int64",
         "type": "integer"
        },
        {
         "name": "PhoneId",
         "rawType": "int64",
         "type": "integer"
        },
        {
         "name": "Resolution",
         "rawType": "int64",
         "type": "integer"
        },
        {
         "name": "Internal Memory",
         "rawType": "int64",
         "type": "integer"
        },
        {
         "name": "Height",
         "rawType": "float64",
         "type": "float"
        },
        {
         "name": "Weight",
         "rawType": "int64",
         "type": "integer"
        },
        {
         "name": "Screen Size",
         "rawType": "float64",
         "type": "float"
        },
        {
         "name": "RAM",
         "rawType": "int64",
         "type": "integer"
        },
        {
         "name": "Capacity",
         "rawType": "int64",
         "type": "integer"
        },
        {
         "name": "Pixel Density",
         "rawType": "int64",
         "type": "integer"
        },
        {
         "name": "Processor_frequency",
         "rawType": "float64",
         "type": "float"
        },
        {
         "name": "Screen to Body Ratio (calculated)",
         "rawType": "float64",
         "type": "float"
        },
        {
         "name": "os_name_Android",
         "rawType": "bool",
         "type": "boolean"
        },
        {
         "name": "os_name_Blackberry",
         "rawType": "bool",
         "type": "boolean"
        },
        {
         "name": "os_name_KAI",
         "rawType": "bool",
         "type": "boolean"
        },
        {
         "name": "os_name_Nokia",
         "rawType": "bool",
         "type": "boolean"
        },
        {
         "name": "os_name_Other",
         "rawType": "bool",
         "type": "boolean"
        },
        {
         "name": "os_name_Tizen",
         "rawType": "bool",
         "type": "boolean"
        },
        {
         "name": "os_name_iOS",
         "rawType": "bool",
         "type": "boolean"
        },
        {
         "name": "Num_cores_312",
         "rawType": "bool",
         "type": "boolean"
        },
        {
         "name": "Num_cores_Deca",
         "rawType": "bool",
         "type": "boolean"
        },
        {
         "name": "Num_cores_Dual",
         "rawType": "bool",
         "type": "boolean"
        },
        {
         "name": "Num_cores_Hexa",
         "rawType": "bool",
         "type": "boolean"
        },
        {
         "name": "Num_cores_Octa",
         "rawType": "bool",
         "type": "boolean"
        },
        {
         "name": "Num_cores_Other",
         "rawType": "bool",
         "type": "boolean"
        },
        {
         "name": "Num_cores_Quad",
         "rawType": "bool",
         "type": "boolean"
        },
        {
         "name": "Num_cores_Tru-Octa",
         "rawType": "bool",
         "type": "boolean"
        },
        {
         "name": "SIM Slot(s)_Dual SIM, GSM+CDMA",
         "rawType": "bool",
         "type": "boolean"
        },
        {
         "name": "SIM Slot(s)_Dual SIM, GSM+GSM",
         "rawType": "bool",
         "type": "boolean"
        },
        {
         "name": "SIM Slot(s)_Dual SIM, GSM+GSM, Dual VoLTE",
         "rawType": "bool",
         "type": "boolean"
        },
        {
         "name": "SIM Slot(s)_Single SIM, GSM",
         "rawType": "bool",
         "type": "boolean"
        },
        {
         "name": "Sim1_2G",
         "rawType": "bool",
         "type": "boolean"
        },
        {
         "name": "Sim1_3G",
         "rawType": "bool",
         "type": "boolean"
        },
        {
         "name": "Sim1_4G",
         "rawType": "bool",
         "type": "boolean"
        },
        {
         "name": "SIM 2_2G",
         "rawType": "bool",
         "type": "boolean"
        },
        {
         "name": "SIM 2_3G",
         "rawType": "bool",
         "type": "boolean"
        },
        {
         "name": "SIM 2_4G",
         "rawType": "bool",
         "type": "boolean"
        },
        {
         "name": "SIM 2_Other",
         "rawType": "bool",
         "type": "boolean"
        },
        {
         "name": "Brand_10.or",
         "rawType": "bool",
         "type": "boolean"
        },
        {
         "name": "Brand_Apple",
         "rawType": "bool",
         "type": "boolean"
        },
        {
         "name": "Brand_Asus",
         "rawType": "bool",
         "type": "boolean"
        },
        {
         "name": "Brand_Billion",
         "rawType": "bool",
         "type": "boolean"
        },
        {
         "name": "Brand_Blackberry",
         "rawType": "bool",
         "type": "boolean"
        },
        {
         "name": "Brand_Comio",
         "rawType": "bool",
         "type": "boolean"
        },
        {
         "name": "Brand_Coolpad",
         "rawType": "bool",
         "type": "boolean"
        },
        {
         "name": "Brand_Do",
         "rawType": "bool",
         "type": "boolean"
        },
        {
         "name": "Brand_Gionee",
         "rawType": "bool",
         "type": "boolean"
        },
        {
         "name": "Brand_Google",
         "rawType": "bool",
         "type": "boolean"
        },
        {
         "name": "Brand_HTC",
         "rawType": "bool",
         "type": "boolean"
        },
        {
         "name": "Brand_Honor",
         "rawType": "bool",
         "type": "boolean"
        },
        {
         "name": "Brand_Huawei",
         "rawType": "bool",
         "type": "boolean"
        },
        {
         "name": "Brand_InFocus",
         "rawType": "bool",
         "type": "boolean"
        },
        {
         "name": "Brand_Infinix",
         "rawType": "bool",
         "type": "boolean"
        },
        {
         "name": "Brand_Intex",
         "rawType": "bool",
         "type": "boolean"
        },
        {
         "name": "Brand_Itel",
         "rawType": "bool",
         "type": "boolean"
        },
        {
         "name": "Brand_Jivi",
         "rawType": "bool",
         "type": "boolean"
        },
        {
         "name": "Brand_Karbonn",
         "rawType": "bool",
         "type": "boolean"
        },
        {
         "name": "Brand_LG",
         "rawType": "bool",
         "type": "boolean"
        },
        {
         "name": "Brand_Lava",
         "rawType": "bool",
         "type": "boolean"
        },
        {
         "name": "Brand_LeEco",
         "rawType": "bool",
         "type": "boolean"
        },
        {
         "name": "Brand_Lenovo",
         "rawType": "bool",
         "type": "boolean"
        },
        {
         "name": "Brand_Lephone",
         "rawType": "bool",
         "type": "boolean"
        },
        {
         "name": "Brand_Lyf",
         "rawType": "bool",
         "type": "boolean"
        },
        {
         "name": "Brand_Meizu",
         "rawType": "bool",
         "type": "boolean"
        },
        {
         "name": "Brand_Micromax",
         "rawType": "bool",
         "type": "boolean"
        },
        {
         "name": "Brand_Mobiistar",
         "rawType": "bool",
         "type": "boolean"
        },
        {
         "name": "Brand_Moto",
         "rawType": "bool",
         "type": "boolean"
        },
        {
         "name": "Brand_Motorola",
         "rawType": "bool",
         "type": "boolean"
        },
        {
         "name": "Brand_Nokia",
         "rawType": "bool",
         "type": "boolean"
        },
        {
         "name": "Brand_Nubia",
         "rawType": "bool",
         "type": "boolean"
        },
        {
         "name": "Brand_OPPO",
         "rawType": "bool",
         "type": "boolean"
        },
        {
         "name": "Brand_OnePlus",
         "rawType": "bool",
         "type": "boolean"
        },
        {
         "name": "Brand_Oppo",
         "rawType": "bool",
         "type": "boolean"
        },
        {
         "name": "Brand_Panasonic",
         "rawType": "bool",
         "type": "boolean"
        },
        {
         "name": "Brand_Razer",
         "rawType": "bool",
         "type": "boolean"
        },
        {
         "name": "Brand_Realme",
         "rawType": "bool",
         "type": "boolean"
        },
        {
         "name": "Brand_Reliance",
         "rawType": "bool",
         "type": "boolean"
        },
        {
         "name": "Brand_Samsung",
         "rawType": "bool",
         "type": "boolean"
        },
        {
         "name": "Brand_Sony",
         "rawType": "bool",
         "type": "boolean"
        },
        {
         "name": "Brand_Spice",
         "rawType": "bool",
         "type": "boolean"
        },
        {
         "name": "Brand_Tecno",
         "rawType": "bool",
         "type": "boolean"
        },
        {
         "name": "Brand_Ulefone",
         "rawType": "bool",
         "type": "boolean"
        },
        {
         "name": "Brand_VOTO",
         "rawType": "bool",
         "type": "boolean"
        },
        {
         "name": "Brand_Vivo",
         "rawType": "bool",
         "type": "boolean"
        },
        {
         "name": "Brand_Xiaomi",
         "rawType": "bool",
         "type": "boolean"
        },
        {
         "name": "Brand_Xiaomi Poco",
         "rawType": "bool",
         "type": "boolean"
        },
        {
         "name": "Brand_Yu",
         "rawType": "bool",
         "type": "boolean"
        },
        {
         "name": "Brand_iVooMi",
         "rawType": "bool",
         "type": "boolean"
        },
        {
         "name": "Rating",
         "rawType": "float64",
         "type": "float"
        }
       ],
       "ref": "99341288-4daa-40e3-a355-007420c785cc",
       "rows": [
        [
         "0",
         "0",
         "20",
         "64",
         "157.9",
         "182",
         "6.26",
         "4",
         "4000",
         "403",
         "1.8",
         "80.68",
         "True",
         "False",
         "False",
         "False",
         "False",
         "False",
         "False",
         "False",
         "False",
         "False",
         "False",
         "True",
         "False",
         "False",
         "False",
         "False",
         "False",
         "True",
         "False",
         "False",
         "False",
         "True",
         "False",
         "False",
         "True",
         "False",
         "False",
         "False",
         "False",
         "False",
         "False",
         "False",
         "False",
         "False",
         "False",
         "False",
         "False",
         "False",
         "False",
         "False",
         "False",
         "False",
         "False",
         "False",
         "False",
         "False",
         "False",
         "False",
         "False",
         "False",
         "False",
         "False",
         "False",
         "False",
         "False",
         "False",
         "False",
         "False",
         "False",
         "False",
         "False",
         "False",
         "False",
         "False",
         "False",
         "False",
         "False",
         "False",
         "False",
         "False",
         "False",
         "False",
         "True",
         "False",
         "False",
         "False",
         "4.5"
        ],
        [
         "1",
         "1",
         "8",
         "32",
         "156.2",
         "168",
         "6.2",
         "3",
         "4230",
         "271",
         "1.8",
         "80.85",
         "True",
         "False",
         "False",
         "False",
         "False",
         "False",
         "False",
         "False",
         "False",
         "False",
         "False",
         "True",
         "False",
         "False",
         "False",
         "False",
         "False",
         "True",
         "False",
         "False",
         "False",
         "True",
         "False",
         "False",
         "True",
         "False",
         "False",
         "False",
         "False",
         "False",
         "False",
         "False",
         "False",
         "False",
         "False",
         "False",
         "False",
         "False",
         "False",
         "False",
         "False",
         "False",
         "False",
         "False",
         "False",
         "False",
         "False",
         "False",
         "False",
         "False",
         "False",
         "False",
         "False",
         "False",
         "False",
         "False",
         "False",
         "False",
         "False",
         "False",
         "False",
         "False",
         "False",
         "True",
         "False",
         "False",
         "False",
         "False",
         "False",
         "False",
         "False",
         "False",
         "False",
         "False",
         "False",
         "False",
         "4.5"
        ],
        [
         "2",
         "2",
         "25",
         "32",
         "157.0",
         "168",
         "6.3",
         "3",
         "3500",
         "409",
         "2.1",
         "83.68",
         "True",
         "False",
         "False",
         "False",
         "False",
         "False",
         "False",
         "False",
         "False",
         "False",
         "False",
         "True",
         "False",
         "False",
         "False",
         "False",
         "False",
         "True",
         "False",
         "False",
         "False",
         "True",
         "False",
         "False",
         "True",
         "False",
         "False",
         "False",
         "False",
         "False",
         "False",
         "False",
         "False",
         "False",
         "False",
         "False",
         "False",
         "False",
         "False",
         "False",
         "False",
         "False",
         "False",
         "False",
         "False",
         "False",
         "False",
         "False",
         "False",
         "False",
         "False",
         "False",
         "False",
         "False",
         "False",
         "False",
         "False",
         "False",
         "False",
         "False",
         "False",
         "False",
         "False",
         "True",
         "False",
         "False",
         "False",
         "False",
         "False",
         "False",
         "False",
         "False",
         "False",
         "False",
         "False",
         "False",
         "4.4"
        ],
        [
         "3",
         "4",
         "24",
         "64",
         "159.8",
         "169",
         "6.0",
         "4",
         "3300",
         "411",
         "2.2",
         "74.78",
         "True",
         "False",
         "False",
         "False",
         "False",
         "False",
         "False",
         "False",
         "False",
         "False",
         "False",
         "True",
         "False",
         "False",
         "False",
         "False",
         "True",
         "False",
         "False",
         "False",
         "False",
         "True",
         "False",
         "False",
         "True",
         "False",
         "False",
         "False",
         "False",
         "False",
         "False",
         "False",
         "False",
         "False",
         "False",
         "False",
         "False",
         "False",
         "False",
         "False",
         "False",
         "False",
         "False",
         "False",
         "False",
         "False",
         "False",
         "False",
         "False",
         "False",
         "False",
         "False",
         "False",
         "False",
         "False",
         "False",
         "False",
         "False",
         "False",
         "False",
         "False",
         "False",
         "False",
         "False",
         "False",
         "True",
         "False",
         "False",
         "False",
         "False",
         "False",
         "False",
         "False",
         "False",
         "False",
         "False",
         "4.3"
        ],
        [
         "4",
         "5",
         "16",
         "64",
         "160.4",
         "175",
         "6.5",
         "4",
         "3750",
         "396",
         "2.2",
         "84.23",
         "True",
         "False",
         "False",
         "False",
         "False",
         "False",
         "False",
         "False",
         "False",
         "False",
         "False",
         "True",
         "False",
         "False",
         "False",
         "False",
         "False",
         "True",
         "False",
         "False",
         "False",
         "True",
         "False",
         "False",
         "True",
         "False",
         "False",
         "False",
         "False",
         "False",
         "False",
         "False",
         "False",
         "False",
         "False",
         "False",
         "False",
         "True",
         "False",
         "False",
         "False",
         "False",
         "False",
         "False",
         "False",
         "False",
         "False",
         "False",
         "False",
         "False",
         "False",
         "False",
         "False",
         "False",
         "False",
         "False",
         "False",
         "False",
         "False",
         "False",
         "False",
         "False",
         "False",
         "False",
         "False",
         "False",
         "False",
         "False",
         "False",
         "False",
         "False",
         "False",
         "False",
         "False",
         "False",
         "False",
         "4.4"
        ]
       ],
       "shape": {
        "columns": 88,
        "rows": 5
       }
      },
      "text/html": [
       "<div>\n",
       "<style scoped>\n",
       "    .dataframe tbody tr th:only-of-type {\n",
       "        vertical-align: middle;\n",
       "    }\n",
       "\n",
       "    .dataframe tbody tr th {\n",
       "        vertical-align: top;\n",
       "    }\n",
       "\n",
       "    .dataframe thead th {\n",
       "        text-align: right;\n",
       "    }\n",
       "</style>\n",
       "<table border=\"1\" class=\"dataframe\">\n",
       "  <thead>\n",
       "    <tr style=\"text-align: right;\">\n",
       "      <th></th>\n",
       "      <th>PhoneId</th>\n",
       "      <th>Resolution</th>\n",
       "      <th>Internal Memory</th>\n",
       "      <th>Height</th>\n",
       "      <th>Weight</th>\n",
       "      <th>Screen Size</th>\n",
       "      <th>RAM</th>\n",
       "      <th>Capacity</th>\n",
       "      <th>Pixel Density</th>\n",
       "      <th>Processor_frequency</th>\n",
       "      <th>...</th>\n",
       "      <th>Brand_Spice</th>\n",
       "      <th>Brand_Tecno</th>\n",
       "      <th>Brand_Ulefone</th>\n",
       "      <th>Brand_VOTO</th>\n",
       "      <th>Brand_Vivo</th>\n",
       "      <th>Brand_Xiaomi</th>\n",
       "      <th>Brand_Xiaomi Poco</th>\n",
       "      <th>Brand_Yu</th>\n",
       "      <th>Brand_iVooMi</th>\n",
       "      <th>Rating</th>\n",
       "    </tr>\n",
       "  </thead>\n",
       "  <tbody>\n",
       "    <tr>\n",
       "      <th>0</th>\n",
       "      <td>0</td>\n",
       "      <td>20</td>\n",
       "      <td>64</td>\n",
       "      <td>157.9</td>\n",
       "      <td>182</td>\n",
       "      <td>6.26</td>\n",
       "      <td>4</td>\n",
       "      <td>4000</td>\n",
       "      <td>403</td>\n",
       "      <td>1.8</td>\n",
       "      <td>...</td>\n",
       "      <td>False</td>\n",
       "      <td>False</td>\n",
       "      <td>False</td>\n",
       "      <td>False</td>\n",
       "      <td>False</td>\n",
       "      <td>True</td>\n",
       "      <td>False</td>\n",
       "      <td>False</td>\n",
       "      <td>False</td>\n",
       "      <td>4.5</td>\n",
       "    </tr>\n",
       "    <tr>\n",
       "      <th>1</th>\n",
       "      <td>1</td>\n",
       "      <td>8</td>\n",
       "      <td>32</td>\n",
       "      <td>156.2</td>\n",
       "      <td>168</td>\n",
       "      <td>6.20</td>\n",
       "      <td>3</td>\n",
       "      <td>4230</td>\n",
       "      <td>271</td>\n",
       "      <td>1.8</td>\n",
       "      <td>...</td>\n",
       "      <td>False</td>\n",
       "      <td>False</td>\n",
       "      <td>False</td>\n",
       "      <td>False</td>\n",
       "      <td>False</td>\n",
       "      <td>False</td>\n",
       "      <td>False</td>\n",
       "      <td>False</td>\n",
       "      <td>False</td>\n",
       "      <td>4.5</td>\n",
       "    </tr>\n",
       "    <tr>\n",
       "      <th>2</th>\n",
       "      <td>2</td>\n",
       "      <td>25</td>\n",
       "      <td>32</td>\n",
       "      <td>157.0</td>\n",
       "      <td>168</td>\n",
       "      <td>6.30</td>\n",
       "      <td>3</td>\n",
       "      <td>3500</td>\n",
       "      <td>409</td>\n",
       "      <td>2.1</td>\n",
       "      <td>...</td>\n",
       "      <td>False</td>\n",
       "      <td>False</td>\n",
       "      <td>False</td>\n",
       "      <td>False</td>\n",
       "      <td>False</td>\n",
       "      <td>False</td>\n",
       "      <td>False</td>\n",
       "      <td>False</td>\n",
       "      <td>False</td>\n",
       "      <td>4.4</td>\n",
       "    </tr>\n",
       "    <tr>\n",
       "      <th>3</th>\n",
       "      <td>4</td>\n",
       "      <td>24</td>\n",
       "      <td>64</td>\n",
       "      <td>159.8</td>\n",
       "      <td>169</td>\n",
       "      <td>6.00</td>\n",
       "      <td>4</td>\n",
       "      <td>3300</td>\n",
       "      <td>411</td>\n",
       "      <td>2.2</td>\n",
       "      <td>...</td>\n",
       "      <td>False</td>\n",
       "      <td>False</td>\n",
       "      <td>False</td>\n",
       "      <td>False</td>\n",
       "      <td>False</td>\n",
       "      <td>False</td>\n",
       "      <td>False</td>\n",
       "      <td>False</td>\n",
       "      <td>False</td>\n",
       "      <td>4.3</td>\n",
       "    </tr>\n",
       "    <tr>\n",
       "      <th>4</th>\n",
       "      <td>5</td>\n",
       "      <td>16</td>\n",
       "      <td>64</td>\n",
       "      <td>160.4</td>\n",
       "      <td>175</td>\n",
       "      <td>6.50</td>\n",
       "      <td>4</td>\n",
       "      <td>3750</td>\n",
       "      <td>396</td>\n",
       "      <td>2.2</td>\n",
       "      <td>...</td>\n",
       "      <td>False</td>\n",
       "      <td>False</td>\n",
       "      <td>False</td>\n",
       "      <td>False</td>\n",
       "      <td>False</td>\n",
       "      <td>False</td>\n",
       "      <td>False</td>\n",
       "      <td>False</td>\n",
       "      <td>False</td>\n",
       "      <td>4.4</td>\n",
       "    </tr>\n",
       "  </tbody>\n",
       "</table>\n",
       "<p>5 rows × 88 columns</p>\n",
       "</div>"
      ],
      "text/plain": [
       "   PhoneId  Resolution  Internal Memory  Height  Weight  Screen Size  RAM  \\\n",
       "0        0          20               64   157.9     182         6.26    4   \n",
       "1        1           8               32   156.2     168         6.20    3   \n",
       "2        2          25               32   157.0     168         6.30    3   \n",
       "3        4          24               64   159.8     169         6.00    4   \n",
       "4        5          16               64   160.4     175         6.50    4   \n",
       "\n",
       "   Capacity  Pixel Density  Processor_frequency  ...  Brand_Spice  \\\n",
       "0      4000            403                  1.8  ...        False   \n",
       "1      4230            271                  1.8  ...        False   \n",
       "2      3500            409                  2.1  ...        False   \n",
       "3      3300            411                  2.2  ...        False   \n",
       "4      3750            396                  2.2  ...        False   \n",
       "\n",
       "   Brand_Tecno  Brand_Ulefone  Brand_VOTO  Brand_Vivo  Brand_Xiaomi  \\\n",
       "0        False          False       False       False          True   \n",
       "1        False          False       False       False         False   \n",
       "2        False          False       False       False         False   \n",
       "3        False          False       False       False         False   \n",
       "4        False          False       False       False         False   \n",
       "\n",
       "   Brand_Xiaomi Poco  Brand_Yu  Brand_iVooMi  Rating  \n",
       "0              False     False         False     4.5  \n",
       "1              False     False         False     4.5  \n",
       "2              False     False         False     4.4  \n",
       "3              False     False         False     4.3  \n",
       "4              False     False         False     4.4  \n",
       "\n",
       "[5 rows x 88 columns]"
      ]
     },
     "execution_count": 52,
     "metadata": {},
     "output_type": "execute_result"
    }
   ],
   "source": [
    "train_new.head()"
   ]
  },
  {
   "cell_type": "code",
   "execution_count": 53,
   "metadata": {},
   "outputs": [
    {
     "data": {
      "application/vnd.microsoft.datawrangler.viewer.v0+json": {
       "columns": [
        {
         "name": "index",
         "rawType": "int64",
         "type": "integer"
        },
        {
         "name": "PhoneId",
         "rawType": "int64",
         "type": "integer"
        },
        {
         "name": "Resolution",
         "rawType": "int64",
         "type": "integer"
        },
        {
         "name": "Internal Memory",
         "rawType": "int64",
         "type": "integer"
        },
        {
         "name": "Height",
         "rawType": "float64",
         "type": "float"
        },
        {
         "name": "Weight",
         "rawType": "int64",
         "type": "integer"
        },
        {
         "name": "Screen Size",
         "rawType": "float64",
         "type": "float"
        },
        {
         "name": "RAM",
         "rawType": "int64",
         "type": "integer"
        },
        {
         "name": "Capacity",
         "rawType": "int64",
         "type": "integer"
        },
        {
         "name": "Pixel Density",
         "rawType": "int64",
         "type": "integer"
        },
        {
         "name": "Processor_frequency",
         "rawType": "float64",
         "type": "float"
        },
        {
         "name": "Screen to Body Ratio (calculated)",
         "rawType": "float64",
         "type": "float"
        },
        {
         "name": "os_name_Android",
         "rawType": "bool",
         "type": "boolean"
        },
        {
         "name": "os_name_Blackberry",
         "rawType": "bool",
         "type": "boolean"
        },
        {
         "name": "os_name_KAI",
         "rawType": "bool",
         "type": "boolean"
        },
        {
         "name": "os_name_Nokia",
         "rawType": "bool",
         "type": "boolean"
        },
        {
         "name": "os_name_Other",
         "rawType": "bool",
         "type": "boolean"
        },
        {
         "name": "os_name_Tizen",
         "rawType": "bool",
         "type": "boolean"
        },
        {
         "name": "os_name_iOS",
         "rawType": "bool",
         "type": "boolean"
        },
        {
         "name": "Num_cores_312",
         "rawType": "bool",
         "type": "boolean"
        },
        {
         "name": "Num_cores_Deca",
         "rawType": "bool",
         "type": "boolean"
        },
        {
         "name": "Num_cores_Dual",
         "rawType": "bool",
         "type": "boolean"
        },
        {
         "name": "Num_cores_Hexa",
         "rawType": "bool",
         "type": "boolean"
        },
        {
         "name": "Num_cores_Octa",
         "rawType": "bool",
         "type": "boolean"
        },
        {
         "name": "Num_cores_Other",
         "rawType": "bool",
         "type": "boolean"
        },
        {
         "name": "Num_cores_Quad",
         "rawType": "bool",
         "type": "boolean"
        },
        {
         "name": "Num_cores_Tru-Octa",
         "rawType": "bool",
         "type": "boolean"
        },
        {
         "name": "SIM Slot(s)_Dual SIM, GSM+CDMA",
         "rawType": "bool",
         "type": "boolean"
        },
        {
         "name": "SIM Slot(s)_Dual SIM, GSM+GSM",
         "rawType": "bool",
         "type": "boolean"
        },
        {
         "name": "SIM Slot(s)_Dual SIM, GSM+GSM, Dual VoLTE",
         "rawType": "bool",
         "type": "boolean"
        },
        {
         "name": "SIM Slot(s)_Single SIM, GSM",
         "rawType": "bool",
         "type": "boolean"
        },
        {
         "name": "Sim1_2G",
         "rawType": "bool",
         "type": "boolean"
        },
        {
         "name": "Sim1_3G",
         "rawType": "bool",
         "type": "boolean"
        },
        {
         "name": "Sim1_4G",
         "rawType": "bool",
         "type": "boolean"
        },
        {
         "name": "SIM 2_2G",
         "rawType": "bool",
         "type": "boolean"
        },
        {
         "name": "SIM 2_3G",
         "rawType": "bool",
         "type": "boolean"
        },
        {
         "name": "SIM 2_4G",
         "rawType": "bool",
         "type": "boolean"
        },
        {
         "name": "SIM 2_Other",
         "rawType": "bool",
         "type": "boolean"
        },
        {
         "name": "Brand_10.or",
         "rawType": "bool",
         "type": "boolean"
        },
        {
         "name": "Brand_Apple",
         "rawType": "bool",
         "type": "boolean"
        },
        {
         "name": "Brand_Asus",
         "rawType": "bool",
         "type": "boolean"
        },
        {
         "name": "Brand_Billion",
         "rawType": "bool",
         "type": "boolean"
        },
        {
         "name": "Brand_Blackberry",
         "rawType": "bool",
         "type": "boolean"
        },
        {
         "name": "Brand_Comio",
         "rawType": "bool",
         "type": "boolean"
        },
        {
         "name": "Brand_Coolpad",
         "rawType": "bool",
         "type": "boolean"
        },
        {
         "name": "Brand_Do",
         "rawType": "bool",
         "type": "boolean"
        },
        {
         "name": "Brand_Gionee",
         "rawType": "bool",
         "type": "boolean"
        },
        {
         "name": "Brand_Google",
         "rawType": "bool",
         "type": "boolean"
        },
        {
         "name": "Brand_HTC",
         "rawType": "bool",
         "type": "boolean"
        },
        {
         "name": "Brand_Honor",
         "rawType": "bool",
         "type": "boolean"
        },
        {
         "name": "Brand_Huawei",
         "rawType": "bool",
         "type": "boolean"
        },
        {
         "name": "Brand_InFocus",
         "rawType": "bool",
         "type": "boolean"
        },
        {
         "name": "Brand_Infinix",
         "rawType": "bool",
         "type": "boolean"
        },
        {
         "name": "Brand_Intex",
         "rawType": "bool",
         "type": "boolean"
        },
        {
         "name": "Brand_Itel",
         "rawType": "bool",
         "type": "boolean"
        },
        {
         "name": "Brand_Jivi",
         "rawType": "bool",
         "type": "boolean"
        },
        {
         "name": "Brand_Karbonn",
         "rawType": "bool",
         "type": "boolean"
        },
        {
         "name": "Brand_LG",
         "rawType": "bool",
         "type": "boolean"
        },
        {
         "name": "Brand_Lava",
         "rawType": "bool",
         "type": "boolean"
        },
        {
         "name": "Brand_LeEco",
         "rawType": "bool",
         "type": "boolean"
        },
        {
         "name": "Brand_Lenovo",
         "rawType": "bool",
         "type": "boolean"
        },
        {
         "name": "Brand_Lephone",
         "rawType": "bool",
         "type": "boolean"
        },
        {
         "name": "Brand_Lyf",
         "rawType": "bool",
         "type": "boolean"
        },
        {
         "name": "Brand_Meizu",
         "rawType": "bool",
         "type": "boolean"
        },
        {
         "name": "Brand_Micromax",
         "rawType": "bool",
         "type": "boolean"
        },
        {
         "name": "Brand_Mobiistar",
         "rawType": "bool",
         "type": "boolean"
        },
        {
         "name": "Brand_Moto",
         "rawType": "bool",
         "type": "boolean"
        },
        {
         "name": "Brand_Motorola",
         "rawType": "bool",
         "type": "boolean"
        },
        {
         "name": "Brand_Nokia",
         "rawType": "bool",
         "type": "boolean"
        },
        {
         "name": "Brand_Nubia",
         "rawType": "bool",
         "type": "boolean"
        },
        {
         "name": "Brand_OPPO",
         "rawType": "bool",
         "type": "boolean"
        },
        {
         "name": "Brand_OnePlus",
         "rawType": "bool",
         "type": "boolean"
        },
        {
         "name": "Brand_Oppo",
         "rawType": "bool",
         "type": "boolean"
        },
        {
         "name": "Brand_Panasonic",
         "rawType": "bool",
         "type": "boolean"
        },
        {
         "name": "Brand_Razer",
         "rawType": "bool",
         "type": "boolean"
        },
        {
         "name": "Brand_Realme",
         "rawType": "bool",
         "type": "boolean"
        },
        {
         "name": "Brand_Reliance",
         "rawType": "bool",
         "type": "boolean"
        },
        {
         "name": "Brand_Samsung",
         "rawType": "bool",
         "type": "boolean"
        },
        {
         "name": "Brand_Sony",
         "rawType": "bool",
         "type": "boolean"
        },
        {
         "name": "Brand_Spice",
         "rawType": "bool",
         "type": "boolean"
        },
        {
         "name": "Brand_Tecno",
         "rawType": "bool",
         "type": "boolean"
        },
        {
         "name": "Brand_Ulefone",
         "rawType": "bool",
         "type": "boolean"
        },
        {
         "name": "Brand_VOTO",
         "rawType": "bool",
         "type": "boolean"
        },
        {
         "name": "Brand_Vivo",
         "rawType": "bool",
         "type": "boolean"
        },
        {
         "name": "Brand_Xiaomi",
         "rawType": "bool",
         "type": "boolean"
        },
        {
         "name": "Brand_Xiaomi Poco",
         "rawType": "bool",
         "type": "boolean"
        },
        {
         "name": "Brand_Yu",
         "rawType": "bool",
         "type": "boolean"
        },
        {
         "name": "Brand_iVooMi",
         "rawType": "bool",
         "type": "boolean"
        }
       ],
       "ref": "6b3f534a-5003-4af2-92a3-ade6f53e6b55",
       "rows": [
        [
         "0",
         "3",
         "5",
         "16",
         "156.2",
         "168",
         "6.2",
         "2",
         "4230",
         "271",
         "1.8",
         "80.85",
         "True",
         "False",
         "False",
         "False",
         "False",
         "False",
         "False",
         "False",
         "False",
         "False",
         "False",
         "True",
         "False",
         "False",
         "False",
         "False",
         "False",
         "True",
         "False",
         "False",
         "False",
         "True",
         "False",
         "False",
         "True",
         "False",
         "False",
         "False",
         "False",
         "False",
         "False",
         "False",
         "False",
         "False",
         "False",
         "False",
         "False",
         "False",
         "False",
         "False",
         "False",
         "False",
         "False",
         "False",
         "False",
         "False",
         "False",
         "False",
         "False",
         "False",
         "False",
         "False",
         "False",
         "False",
         "False",
         "False",
         "False",
         "False",
         "False",
         "False",
         "False",
         "False",
         "False",
         "True",
         "False",
         "False",
         "False",
         "False",
         "False",
         "False",
         "False",
         "False",
         "False",
         "False",
         "False",
         "False"
        ],
        [
         "1",
         "11",
         "12",
         "64",
         "156.0",
         "205",
         "6.2",
         "4",
         "5000",
         "402",
         "1.8",
         "81.6",
         "True",
         "False",
         "False",
         "False",
         "False",
         "False",
         "False",
         "False",
         "False",
         "False",
         "False",
         "True",
         "False",
         "False",
         "False",
         "False",
         "False",
         "True",
         "False",
         "False",
         "False",
         "True",
         "False",
         "False",
         "True",
         "False",
         "False",
         "False",
         "False",
         "False",
         "False",
         "False",
         "False",
         "False",
         "False",
         "False",
         "False",
         "False",
         "False",
         "False",
         "False",
         "False",
         "False",
         "False",
         "False",
         "False",
         "False",
         "False",
         "False",
         "False",
         "False",
         "False",
         "False",
         "False",
         "False",
         "True",
         "False",
         "False",
         "False",
         "False",
         "False",
         "False",
         "False",
         "False",
         "False",
         "False",
         "False",
         "False",
         "False",
         "False",
         "False",
         "False",
         "False",
         "False",
         "False",
         "False"
        ],
        [
         "2",
         "13",
         "25",
         "64",
         "156.7",
         "169",
         "6.3",
         "6",
         "3500",
         "409",
         "2.0",
         "83.84",
         "True",
         "False",
         "False",
         "False",
         "False",
         "False",
         "False",
         "False",
         "False",
         "False",
         "False",
         "True",
         "False",
         "False",
         "False",
         "False",
         "False",
         "True",
         "False",
         "False",
         "False",
         "True",
         "False",
         "False",
         "True",
         "False",
         "False",
         "False",
         "False",
         "False",
         "False",
         "False",
         "False",
         "False",
         "False",
         "False",
         "False",
         "False",
         "False",
         "False",
         "False",
         "False",
         "False",
         "False",
         "False",
         "False",
         "False",
         "False",
         "False",
         "False",
         "False",
         "False",
         "False",
         "False",
         "False",
         "False",
         "False",
         "False",
         "True",
         "False",
         "False",
         "False",
         "False",
         "False",
         "False",
         "False",
         "False",
         "False",
         "False",
         "False",
         "False",
         "False",
         "False",
         "False",
         "False",
         "False"
        ],
        [
         "3",
         "16",
         "16",
         "64",
         "156.7",
         "169",
         "6.3",
         "4",
         "3500",
         "409",
         "2.0",
         "83.84",
         "True",
         "False",
         "False",
         "False",
         "False",
         "False",
         "False",
         "False",
         "False",
         "False",
         "False",
         "True",
         "False",
         "False",
         "False",
         "False",
         "False",
         "True",
         "False",
         "False",
         "False",
         "True",
         "False",
         "False",
         "True",
         "False",
         "False",
         "False",
         "False",
         "False",
         "False",
         "False",
         "False",
         "False",
         "False",
         "False",
         "False",
         "False",
         "False",
         "False",
         "False",
         "False",
         "False",
         "False",
         "False",
         "False",
         "False",
         "False",
         "False",
         "False",
         "False",
         "False",
         "False",
         "False",
         "False",
         "False",
         "False",
         "False",
         "True",
         "False",
         "False",
         "False",
         "False",
         "False",
         "False",
         "False",
         "False",
         "False",
         "False",
         "False",
         "False",
         "False",
         "False",
         "False",
         "False",
         "False"
        ],
        [
         "4",
         "19",
         "20",
         "64",
         "158.6",
         "181",
         "5.99",
         "4",
         "4000",
         "403",
         "1.8",
         "77.43",
         "True",
         "False",
         "False",
         "False",
         "False",
         "False",
         "False",
         "False",
         "False",
         "False",
         "False",
         "True",
         "False",
         "False",
         "False",
         "False",
         "False",
         "True",
         "False",
         "False",
         "False",
         "True",
         "False",
         "False",
         "True",
         "False",
         "False",
         "False",
         "False",
         "False",
         "False",
         "False",
         "False",
         "False",
         "False",
         "False",
         "False",
         "False",
         "False",
         "False",
         "False",
         "False",
         "False",
         "False",
         "False",
         "False",
         "False",
         "False",
         "False",
         "False",
         "False",
         "False",
         "False",
         "False",
         "False",
         "False",
         "False",
         "False",
         "False",
         "False",
         "False",
         "False",
         "False",
         "False",
         "False",
         "False",
         "False",
         "False",
         "False",
         "False",
         "False",
         "False",
         "True",
         "False",
         "False",
         "False"
        ]
       ],
       "shape": {
        "columns": 87,
        "rows": 5
       }
      },
      "text/html": [
       "<div>\n",
       "<style scoped>\n",
       "    .dataframe tbody tr th:only-of-type {\n",
       "        vertical-align: middle;\n",
       "    }\n",
       "\n",
       "    .dataframe tbody tr th {\n",
       "        vertical-align: top;\n",
       "    }\n",
       "\n",
       "    .dataframe thead th {\n",
       "        text-align: right;\n",
       "    }\n",
       "</style>\n",
       "<table border=\"1\" class=\"dataframe\">\n",
       "  <thead>\n",
       "    <tr style=\"text-align: right;\">\n",
       "      <th></th>\n",
       "      <th>PhoneId</th>\n",
       "      <th>Resolution</th>\n",
       "      <th>Internal Memory</th>\n",
       "      <th>Height</th>\n",
       "      <th>Weight</th>\n",
       "      <th>Screen Size</th>\n",
       "      <th>RAM</th>\n",
       "      <th>Capacity</th>\n",
       "      <th>Pixel Density</th>\n",
       "      <th>Processor_frequency</th>\n",
       "      <th>...</th>\n",
       "      <th>Brand_Sony</th>\n",
       "      <th>Brand_Spice</th>\n",
       "      <th>Brand_Tecno</th>\n",
       "      <th>Brand_Ulefone</th>\n",
       "      <th>Brand_VOTO</th>\n",
       "      <th>Brand_Vivo</th>\n",
       "      <th>Brand_Xiaomi</th>\n",
       "      <th>Brand_Xiaomi Poco</th>\n",
       "      <th>Brand_Yu</th>\n",
       "      <th>Brand_iVooMi</th>\n",
       "    </tr>\n",
       "  </thead>\n",
       "  <tbody>\n",
       "    <tr>\n",
       "      <th>0</th>\n",
       "      <td>3</td>\n",
       "      <td>5</td>\n",
       "      <td>16</td>\n",
       "      <td>156.2</td>\n",
       "      <td>168</td>\n",
       "      <td>6.20</td>\n",
       "      <td>2</td>\n",
       "      <td>4230</td>\n",
       "      <td>271</td>\n",
       "      <td>1.8</td>\n",
       "      <td>...</td>\n",
       "      <td>False</td>\n",
       "      <td>False</td>\n",
       "      <td>False</td>\n",
       "      <td>False</td>\n",
       "      <td>False</td>\n",
       "      <td>False</td>\n",
       "      <td>False</td>\n",
       "      <td>False</td>\n",
       "      <td>False</td>\n",
       "      <td>False</td>\n",
       "    </tr>\n",
       "    <tr>\n",
       "      <th>1</th>\n",
       "      <td>11</td>\n",
       "      <td>12</td>\n",
       "      <td>64</td>\n",
       "      <td>156.0</td>\n",
       "      <td>205</td>\n",
       "      <td>6.20</td>\n",
       "      <td>4</td>\n",
       "      <td>5000</td>\n",
       "      <td>402</td>\n",
       "      <td>1.8</td>\n",
       "      <td>...</td>\n",
       "      <td>False</td>\n",
       "      <td>False</td>\n",
       "      <td>False</td>\n",
       "      <td>False</td>\n",
       "      <td>False</td>\n",
       "      <td>False</td>\n",
       "      <td>False</td>\n",
       "      <td>False</td>\n",
       "      <td>False</td>\n",
       "      <td>False</td>\n",
       "    </tr>\n",
       "    <tr>\n",
       "      <th>2</th>\n",
       "      <td>13</td>\n",
       "      <td>25</td>\n",
       "      <td>64</td>\n",
       "      <td>156.7</td>\n",
       "      <td>169</td>\n",
       "      <td>6.30</td>\n",
       "      <td>6</td>\n",
       "      <td>3500</td>\n",
       "      <td>409</td>\n",
       "      <td>2.0</td>\n",
       "      <td>...</td>\n",
       "      <td>False</td>\n",
       "      <td>False</td>\n",
       "      <td>False</td>\n",
       "      <td>False</td>\n",
       "      <td>False</td>\n",
       "      <td>False</td>\n",
       "      <td>False</td>\n",
       "      <td>False</td>\n",
       "      <td>False</td>\n",
       "      <td>False</td>\n",
       "    </tr>\n",
       "    <tr>\n",
       "      <th>3</th>\n",
       "      <td>16</td>\n",
       "      <td>16</td>\n",
       "      <td>64</td>\n",
       "      <td>156.7</td>\n",
       "      <td>169</td>\n",
       "      <td>6.30</td>\n",
       "      <td>4</td>\n",
       "      <td>3500</td>\n",
       "      <td>409</td>\n",
       "      <td>2.0</td>\n",
       "      <td>...</td>\n",
       "      <td>False</td>\n",
       "      <td>False</td>\n",
       "      <td>False</td>\n",
       "      <td>False</td>\n",
       "      <td>False</td>\n",
       "      <td>False</td>\n",
       "      <td>False</td>\n",
       "      <td>False</td>\n",
       "      <td>False</td>\n",
       "      <td>False</td>\n",
       "    </tr>\n",
       "    <tr>\n",
       "      <th>4</th>\n",
       "      <td>19</td>\n",
       "      <td>20</td>\n",
       "      <td>64</td>\n",
       "      <td>158.6</td>\n",
       "      <td>181</td>\n",
       "      <td>5.99</td>\n",
       "      <td>4</td>\n",
       "      <td>4000</td>\n",
       "      <td>403</td>\n",
       "      <td>1.8</td>\n",
       "      <td>...</td>\n",
       "      <td>False</td>\n",
       "      <td>False</td>\n",
       "      <td>False</td>\n",
       "      <td>False</td>\n",
       "      <td>False</td>\n",
       "      <td>False</td>\n",
       "      <td>True</td>\n",
       "      <td>False</td>\n",
       "      <td>False</td>\n",
       "      <td>False</td>\n",
       "    </tr>\n",
       "  </tbody>\n",
       "</table>\n",
       "<p>5 rows × 87 columns</p>\n",
       "</div>"
      ],
      "text/plain": [
       "   PhoneId  Resolution  Internal Memory  Height  Weight  Screen Size  RAM  \\\n",
       "0        3           5               16   156.2     168         6.20    2   \n",
       "1       11          12               64   156.0     205         6.20    4   \n",
       "2       13          25               64   156.7     169         6.30    6   \n",
       "3       16          16               64   156.7     169         6.30    4   \n",
       "4       19          20               64   158.6     181         5.99    4   \n",
       "\n",
       "   Capacity  Pixel Density  Processor_frequency  ...  Brand_Sony  Brand_Spice  \\\n",
       "0      4230            271                  1.8  ...       False        False   \n",
       "1      5000            402                  1.8  ...       False        False   \n",
       "2      3500            409                  2.0  ...       False        False   \n",
       "3      3500            409                  2.0  ...       False        False   \n",
       "4      4000            403                  1.8  ...       False        False   \n",
       "\n",
       "   Brand_Tecno  Brand_Ulefone  Brand_VOTO  Brand_Vivo  Brand_Xiaomi  \\\n",
       "0        False          False       False       False         False   \n",
       "1        False          False       False       False         False   \n",
       "2        False          False       False       False         False   \n",
       "3        False          False       False       False         False   \n",
       "4        False          False       False       False          True   \n",
       "\n",
       "   Brand_Xiaomi Poco  Brand_Yu  Brand_iVooMi  \n",
       "0              False     False         False  \n",
       "1              False     False         False  \n",
       "2              False     False         False  \n",
       "3              False     False         False  \n",
       "4              False     False         False  \n",
       "\n",
       "[5 rows x 87 columns]"
      ]
     },
     "execution_count": 53,
     "metadata": {},
     "output_type": "execute_result"
    }
   ],
   "source": [
    "test_new.head()"
   ]
  },
  {
   "cell_type": "markdown",
   "metadata": {},
   "source": [
    "## Feature Engineering"
   ]
  },
  {
   "cell_type": "code",
   "execution_count": 57,
   "metadata": {},
   "outputs": [
    {
     "data": {
      "application/vnd.microsoft.datawrangler.viewer.v0+json": {
       "columns": [
        {
         "name": "class",
         "rawType": "int64",
         "type": "integer"
        },
        {
         "name": "count",
         "rawType": "int64",
         "type": "integer"
        }
       ],
       "ref": "3c349d93-a8c2-4f4a-ad6d-6210b2994fce",
       "rows": [
        [
         "1",
         "238"
        ],
        [
         "0",
         "103"
        ]
       ],
       "shape": {
        "columns": 1,
        "rows": 2
       }
      },
      "text/plain": [
       "class\n",
       "1    238\n",
       "0    103\n",
       "Name: count, dtype: int64"
      ]
     },
     "execution_count": 57,
     "metadata": {},
     "output_type": "execute_result"
    }
   ],
   "source": [
    "train_new[\"class\"] = train_new[\"Rating\"].map(lambda x: 1 if x>=4 else 0)\n",
    "\n",
    "train_new[\"class\"].value_counts()"
   ]
  },
  {
   "cell_type": "code",
   "execution_count": 58,
   "metadata": {},
   "outputs": [],
   "source": [
    "train_new_1 = train_new.drop(\"Rating\", axis=1)"
   ]
  },
  {
   "cell_type": "code",
   "execution_count": 65,
   "metadata": {},
   "outputs": [],
   "source": [
    "train_new_2 = train_new_1.set_index(\"PhoneId\")"
   ]
  },
  {
   "cell_type": "code",
   "execution_count": 61,
   "metadata": {},
   "outputs": [],
   "source": [
    "non_binary_cols=['Resolution','Capacity','Pixel Density','Internal Memory','Weight','Screen Size','RAM','Height','Processor_frequency','Screen to Body Ratio (calculated)']"
   ]
  },
  {
   "cell_type": "code",
   "execution_count": 68,
   "metadata": {},
   "outputs": [
    {
     "data": {
      "image/png": "[encoded data removed]",
      "text/plain": [
       "<Figure size 1000x600 with 1 Axes>"
      ]
     },
     "metadata": {},
     "output_type": "display_data"
    }
   ],
   "source": [
    "import matplotlib.pyplot as plt\n",
    "\n",
    "# Plot the distribution of Resolution for each class using histograms\n",
    "plt.figure(figsize=(10, 6))\n",
    "for label, group in train_new_2.groupby(\"class\"):\n",
    "    plt.hist(group[\"Resolution\"], bins=20, alpha=0.6, label=f'Class {label}', edgecolor='black')\n",
    "plt.xlabel(\"Resolution\")\n",
    "plt.ylabel(\"Count\")\n",
    "plt.title(\"Distribution of Resolution by Class\")\n",
    "plt.legend([\"Not Likable\", \"Likable\"])\n",
    "plt.grid(True, linestyle='--', alpha=0.5)\n",
    "plt.show()"
   ]
  },
  {
   "cell_type": "code",
   "execution_count": 69,
   "metadata": {},
   "outputs": [],
   "source": [
    "# based on above graph, we can say that most resolutions above 5 are liked. So we binarize with 5\n",
    "\n",
    "train_new_2[\"Resolution\"] = train_new_2[\"Resolution\"].map(lambda x: 1 if x>=5 else 0)"
   ]
  },
  {
   "cell_type": "code",
   "execution_count": 75,
   "metadata": {},
   "outputs": [
    {
     "name": "stdout",
     "output_type": "stream",
     "text": [
      "       count         mean         std     min     25%     50%     75%      max\n",
      "class                                                                         \n",
      "0      103.0  2984.805825  795.604013  1200.0  2500.0  3000.0  3475.0   5000.0\n",
      "1      238.0  3280.676471  973.949188  1020.0  3000.0  3180.0  3750.0  13000.0\n"
     ]
    }
   ],
   "source": [
    "print(train_new_2.groupby(\"class\")[\"Capacity\"].describe())"
   ]
  },
  {
   "cell_type": "code",
   "execution_count": 77,
   "metadata": {},
   "outputs": [],
   "source": [
    "train_new_2[\"Capacity\"] = train_new_2[\"Capacity\"].map(lambda x: 1 if x>=3100 else 0)"
   ]
  },
  {
   "cell_type": "code",
   "execution_count": 78,
   "metadata": {},
   "outputs": [],
   "source": [
    "train_new_2['Screen to Body Ratio (calculated)']=train_new_2['Screen to Body Ratio (calculated)'].map(lambda x: 1 if x>=81 else 0)\n",
    "train_new_2['Processor_frequency']=train_new_2['Processor_frequency'].map(lambda x: 1 if x>1.75 else 0)\n",
    "train_new_2['Height']=train_new_2['Height'].map(lambda x: 1 if x>=165 else 0)\n",
    "train_new_2['RAM']=train_new_2['RAM'].map(lambda x: 0 if x<=1 else 1)\n",
    "train_new_2['Screen Size']=train_new_2['Screen Size'].map(lambda x: 1 if x>4.6 else 0)\n",
    "train_new_2['Weight']=train_new_2['Weight'].map(lambda x: 1 if x>128 else 0)\n",
    "train_new_2['Internal Memory']=train_new_2['Internal Memory'].map(lambda x: 1 if x>=16 else 0)\n",
    "train_new_2['Pixel Density']=train_new_2['Pixel Density'].map(lambda x: 1 if x>=234 else 0)"
   ]
  },
  {
   "cell_type": "code",
   "execution_count": 79,
   "metadata": {},
   "outputs": [],
   "source": [
    "#dropping columns which have only one kind of values\n",
    "# Drop column: 'Brand_Billion'\n",
    "train_new_2 = train_new_2.drop(columns=['Brand_Billion'])\n",
    "\n",
    "# Drop column: 'Brand_Spice'\n",
    "train_new_2 = train_new_2.drop(columns=['Brand_Spice'])\n",
    "\n",
    "# Drop column: 'Brand_Do'\n",
    "train_new_2 = train_new_2.drop(columns=['Brand_Do'])"
   ]
  },
  {
   "cell_type": "code",
   "execution_count": 80,
   "metadata": {},
   "outputs": [
    {
     "data": {
      "application/vnd.microsoft.datawrangler.viewer.v0+json": {
       "columns": [
        {
         "name": "PhoneId",
         "rawType": "int64",
         "type": "integer"
        },
        {
         "name": "Resolution",
         "rawType": "int64",
         "type": "integer"
        },
        {
         "name": "Internal Memory",
         "rawType": "int64",
         "type": "integer"
        },
        {
         "name": "Height",
         "rawType": "int64",
         "type": "integer"
        },
        {
         "name": "Weight",
         "rawType": "int64",
         "type": "integer"
        },
        {
         "name": "Screen Size",
         "rawType": "int64",
         "type": "integer"
        },
        {
         "name": "RAM",
         "rawType": "int64",
         "type": "integer"
        },
        {
         "name": "Capacity",
         "rawType": "int64",
         "type": "integer"
        },
        {
         "name": "Pixel Density",
         "rawType": "int64",
         "type": "integer"
        },
        {
         "name": "Processor_frequency",
         "rawType": "int64",
         "type": "integer"
        },
        {
         "name": "Screen to Body Ratio (calculated)",
         "rawType": "int64",
         "type": "integer"
        },
        {
         "name": "os_name_Android",
         "rawType": "bool",
         "type": "boolean"
        },
        {
         "name": "os_name_Blackberry",
         "rawType": "bool",
         "type": "boolean"
        },
        {
         "name": "os_name_KAI",
         "rawType": "bool",
         "type": "boolean"
        },
        {
         "name": "os_name_Nokia",
         "rawType": "bool",
         "type": "boolean"
        },
        {
         "name": "os_name_Other",
         "rawType": "bool",
         "type": "boolean"
        },
        {
         "name": "os_name_Tizen",
         "rawType": "bool",
         "type": "boolean"
        },
        {
         "name": "os_name_iOS",
         "rawType": "bool",
         "type": "boolean"
        },
        {
         "name": "Num_cores_312",
         "rawType": "bool",
         "type": "boolean"
        },
        {
         "name": "Num_cores_Deca",
         "rawType": "bool",
         "type": "boolean"
        },
        {
         "name": "Num_cores_Dual",
         "rawType": "bool",
         "type": "boolean"
        },
        {
         "name": "Num_cores_Hexa",
         "rawType": "bool",
         "type": "boolean"
        },
        {
         "name": "Num_cores_Octa",
         "rawType": "bool",
         "type": "boolean"
        },
        {
         "name": "Num_cores_Other",
         "rawType": "bool",
         "type": "boolean"
        },
        {
         "name": "Num_cores_Quad",
         "rawType": "bool",
         "type": "boolean"
        },
        {
         "name": "Num_cores_Tru-Octa",
         "rawType": "bool",
         "type": "boolean"
        },
        {
         "name": "SIM Slot(s)_Dual SIM, GSM+CDMA",
         "rawType": "bool",
         "type": "boolean"
        },
        {
         "name": "SIM Slot(s)_Dual SIM, GSM+GSM",
         "rawType": "bool",
         "type": "boolean"
        },
        {
         "name": "SIM Slot(s)_Dual SIM, GSM+GSM, Dual VoLTE",
         "rawType": "bool",
         "type": "boolean"
        },
        {
         "name": "SIM Slot(s)_Single SIM, GSM",
         "rawType": "bool",
         "type": "boolean"
        },
        {
         "name": "Sim1_2G",
         "rawType": "bool",
         "type": "boolean"
        },
        {
         "name": "Sim1_3G",
         "rawType": "bool",
         "type": "boolean"
        },
        {
         "name": "Sim1_4G",
         "rawType": "bool",
         "type": "boolean"
        },
        {
         "name": "SIM 2_2G",
         "rawType": "bool",
         "type": "boolean"
        },
        {
         "name": "SIM 2_3G",
         "rawType": "bool",
         "type": "boolean"
        },
        {
         "name": "SIM 2_4G",
         "rawType": "bool",
         "type": "boolean"
        },
        {
         "name": "SIM 2_Other",
         "rawType": "bool",
         "type": "boolean"
        },
        {
         "name": "Brand_10.or",
         "rawType": "bool",
         "type": "boolean"
        },
        {
         "name": "Brand_Apple",
         "rawType": "bool",
         "type": "boolean"
        },
        {
         "name": "Brand_Asus",
         "rawType": "bool",
         "type": "boolean"
        },
        {
         "name": "Brand_Blackberry",
         "rawType": "bool",
         "type": "boolean"
        },
        {
         "name": "Brand_Comio",
         "rawType": "bool",
         "type": "boolean"
        },
        {
         "name": "Brand_Coolpad",
         "rawType": "bool",
         "type": "boolean"
        },
        {
         "name": "Brand_Gionee",
         "rawType": "bool",
         "type": "boolean"
        },
        {
         "name": "Brand_Google",
         "rawType": "bool",
         "type": "boolean"
        },
        {
         "name": "Brand_HTC",
         "rawType": "bool",
         "type": "boolean"
        },
        {
         "name": "Brand_Honor",
         "rawType": "bool",
         "type": "boolean"
        },
        {
         "name": "Brand_Huawei",
         "rawType": "bool",
         "type": "boolean"
        },
        {
         "name": "Brand_InFocus",
         "rawType": "bool",
         "type": "boolean"
        },
        {
         "name": "Brand_Infinix",
         "rawType": "bool",
         "type": "boolean"
        },
        {
         "name": "Brand_Intex",
         "rawType": "bool",
         "type": "boolean"
        },
        {
         "name": "Brand_Itel",
         "rawType": "bool",
         "type": "boolean"
        },
        {
         "name": "Brand_Jivi",
         "rawType": "bool",
         "type": "boolean"
        },
        {
         "name": "Brand_Karbonn",
         "rawType": "bool",
         "type": "boolean"
        },
        {
         "name": "Brand_LG",
         "rawType": "bool",
         "type": "boolean"
        },
        {
         "name": "Brand_Lava",
         "rawType": "bool",
         "type": "boolean"
        },
        {
         "name": "Brand_LeEco",
         "rawType": "bool",
         "type": "boolean"
        },
        {
         "name": "Brand_Lenovo",
         "rawType": "bool",
         "type": "boolean"
        },
        {
         "name": "Brand_Lephone",
         "rawType": "bool",
         "type": "boolean"
        },
        {
         "name": "Brand_Lyf",
         "rawType": "bool",
         "type": "boolean"
        },
        {
         "name": "Brand_Meizu",
         "rawType": "bool",
         "type": "boolean"
        },
        {
         "name": "Brand_Micromax",
         "rawType": "bool",
         "type": "boolean"
        },
        {
         "name": "Brand_Mobiistar",
         "rawType": "bool",
         "type": "boolean"
        },
        {
         "name": "Brand_Moto",
         "rawType": "bool",
         "type": "boolean"
        },
        {
         "name": "Brand_Motorola",
         "rawType": "bool",
         "type": "boolean"
        },
        {
         "name": "Brand_Nokia",
         "rawType": "bool",
         "type": "boolean"
        },
        {
         "name": "Brand_Nubia",
         "rawType": "bool",
         "type": "boolean"
        },
        {
         "name": "Brand_OPPO",
         "rawType": "bool",
         "type": "boolean"
        },
        {
         "name": "Brand_OnePlus",
         "rawType": "bool",
         "type": "boolean"
        },
        {
         "name": "Brand_Oppo",
         "rawType": "bool",
         "type": "boolean"
        },
        {
         "name": "Brand_Panasonic",
         "rawType": "bool",
         "type": "boolean"
        },
        {
         "name": "Brand_Razer",
         "rawType": "bool",
         "type": "boolean"
        },
        {
         "name": "Brand_Realme",
         "rawType": "bool",
         "type": "boolean"
        },
        {
         "name": "Brand_Reliance",
         "rawType": "bool",
         "type": "boolean"
        },
        {
         "name": "Brand_Samsung",
         "rawType": "bool",
         "type": "boolean"
        },
        {
         "name": "Brand_Sony",
         "rawType": "bool",
         "type": "boolean"
        },
        {
         "name": "Brand_Tecno",
         "rawType": "bool",
         "type": "boolean"
        },
        {
         "name": "Brand_Ulefone",
         "rawType": "bool",
         "type": "boolean"
        },
        {
         "name": "Brand_VOTO",
         "rawType": "bool",
         "type": "boolean"
        },
        {
         "name": "Brand_Vivo",
         "rawType": "bool",
         "type": "boolean"
        },
        {
         "name": "Brand_Xiaomi",
         "rawType": "bool",
         "type": "boolean"
        },
        {
         "name": "Brand_Xiaomi Poco",
         "rawType": "bool",
         "type": "boolean"
        },
        {
         "name": "Brand_Yu",
         "rawType": "bool",
         "type": "boolean"
        },
        {
         "name": "Brand_iVooMi",
         "rawType": "bool",
         "type": "boolean"
        },
        {
         "name": "class",
         "rawType": "int64",
         "type": "integer"
        }
       ],
       "ref": "b279df0d-00de-40ac-a2bf-6c5a255aec07",
       "rows": [
        [
         "0",
         "1",
         "1",
         "0",
         "1",
         "1",
         "1",
         "1",
         "1",
         "1",
         "0",
         "True",
         "False",
         "False",
         "False",
         "False",
         "False",
         "False",
         "False",
         "False",
         "False",
         "False",
         "True",
         "False",
         "False",
         "False",
         "False",
         "False",
         "True",
         "False",
         "False",
         "False",
         "True",
         "False",
         "False",
         "True",
         "False",
         "False",
         "False",
         "False",
         "False",
         "False",
         "False",
         "False",
         "False",
         "False",
         "False",
         "False",
         "False",
         "False",
         "False",
         "False",
         "False",
         "False",
         "False",
         "False",
         "False",
         "False",
         "False",
         "False",
         "False",
         "False",
         "False",
         "False",
         "False",
         "False",
         "False",
         "False",
         "False",
         "False",
         "False",
         "False",
         "False",
         "False",
         "False",
         "False",
         "False",
         "False",
         "False",
         "False",
         "True",
         "False",
         "False",
         "False",
         "1"
        ],
        [
         "1",
         "1",
         "1",
         "0",
         "1",
         "1",
         "1",
         "1",
         "1",
         "1",
         "0",
         "True",
         "False",
         "False",
         "False",
         "False",
         "False",
         "False",
         "False",
         "False",
         "False",
         "False",
         "True",
         "False",
         "False",
         "False",
         "False",
         "False",
         "True",
         "False",
         "False",
         "False",
         "True",
         "False",
         "False",
         "True",
         "False",
         "False",
         "False",
         "False",
         "False",
         "False",
         "False",
         "False",
         "False",
         "False",
         "False",
         "False",
         "False",
         "False",
         "False",
         "False",
         "False",
         "False",
         "False",
         "False",
         "False",
         "False",
         "False",
         "False",
         "False",
         "False",
         "False",
         "False",
         "False",
         "False",
         "False",
         "False",
         "False",
         "False",
         "False",
         "False",
         "True",
         "False",
         "False",
         "False",
         "False",
         "False",
         "False",
         "False",
         "False",
         "False",
         "False",
         "False",
         "1"
        ],
        [
         "2",
         "1",
         "1",
         "0",
         "1",
         "1",
         "1",
         "1",
         "1",
         "1",
         "1",
         "True",
         "False",
         "False",
         "False",
         "False",
         "False",
         "False",
         "False",
         "False",
         "False",
         "False",
         "True",
         "False",
         "False",
         "False",
         "False",
         "False",
         "True",
         "False",
         "False",
         "False",
         "True",
         "False",
         "False",
         "True",
         "False",
         "False",
         "False",
         "False",
         "False",
         "False",
         "False",
         "False",
         "False",
         "False",
         "False",
         "False",
         "False",
         "False",
         "False",
         "False",
         "False",
         "False",
         "False",
         "False",
         "False",
         "False",
         "False",
         "False",
         "False",
         "False",
         "False",
         "False",
         "False",
         "False",
         "False",
         "False",
         "False",
         "False",
         "False",
         "False",
         "True",
         "False",
         "False",
         "False",
         "False",
         "False",
         "False",
         "False",
         "False",
         "False",
         "False",
         "False",
         "1"
        ],
        [
         "4",
         "1",
         "1",
         "0",
         "1",
         "1",
         "1",
         "1",
         "1",
         "1",
         "0",
         "True",
         "False",
         "False",
         "False",
         "False",
         "False",
         "False",
         "False",
         "False",
         "False",
         "False",
         "True",
         "False",
         "False",
         "False",
         "False",
         "True",
         "False",
         "False",
         "False",
         "False",
         "True",
         "False",
         "False",
         "True",
         "False",
         "False",
         "False",
         "False",
         "False",
         "False",
         "False",
         "False",
         "False",
         "False",
         "False",
         "False",
         "False",
         "False",
         "False",
         "False",
         "False",
         "False",
         "False",
         "False",
         "False",
         "False",
         "False",
         "False",
         "False",
         "False",
         "False",
         "False",
         "False",
         "False",
         "False",
         "False",
         "False",
         "False",
         "False",
         "False",
         "False",
         "False",
         "True",
         "False",
         "False",
         "False",
         "False",
         "False",
         "False",
         "False",
         "False",
         "False",
         "1"
        ],
        [
         "5",
         "1",
         "1",
         "0",
         "1",
         "1",
         "1",
         "1",
         "1",
         "1",
         "1",
         "True",
         "False",
         "False",
         "False",
         "False",
         "False",
         "False",
         "False",
         "False",
         "False",
         "False",
         "True",
         "False",
         "False",
         "False",
         "False",
         "False",
         "True",
         "False",
         "False",
         "False",
         "True",
         "False",
         "False",
         "True",
         "False",
         "False",
         "False",
         "False",
         "False",
         "False",
         "False",
         "False",
         "False",
         "False",
         "True",
         "False",
         "False",
         "False",
         "False",
         "False",
         "False",
         "False",
         "False",
         "False",
         "False",
         "False",
         "False",
         "False",
         "False",
         "False",
         "False",
         "False",
         "False",
         "False",
         "False",
         "False",
         "False",
         "False",
         "False",
         "False",
         "False",
         "False",
         "False",
         "False",
         "False",
         "False",
         "False",
         "False",
         "False",
         "False",
         "False",
         "False",
         "1"
        ]
       ],
       "shape": {
        "columns": 84,
        "rows": 5
       }
      },
      "text/html": [
       "<div>\n",
       "<style scoped>\n",
       "    .dataframe tbody tr th:only-of-type {\n",
       "        vertical-align: middle;\n",
       "    }\n",
       "\n",
       "    .dataframe tbody tr th {\n",
       "        vertical-align: top;\n",
       "    }\n",
       "\n",
       "    .dataframe thead th {\n",
       "        text-align: right;\n",
       "    }\n",
       "</style>\n",
       "<table border=\"1\" class=\"dataframe\">\n",
       "  <thead>\n",
       "    <tr style=\"text-align: right;\">\n",
       "      <th></th>\n",
       "      <th>Resolution</th>\n",
       "      <th>Internal Memory</th>\n",
       "      <th>Height</th>\n",
       "      <th>Weight</th>\n",
       "      <th>Screen Size</th>\n",
       "      <th>RAM</th>\n",
       "      <th>Capacity</th>\n",
       "      <th>Pixel Density</th>\n",
       "      <th>Processor_frequency</th>\n",
       "      <th>Screen to Body Ratio (calculated)</th>\n",
       "      <th>...</th>\n",
       "      <th>Brand_Sony</th>\n",
       "      <th>Brand_Tecno</th>\n",
       "      <th>Brand_Ulefone</th>\n",
       "      <th>Brand_VOTO</th>\n",
       "      <th>Brand_Vivo</th>\n",
       "      <th>Brand_Xiaomi</th>\n",
       "      <th>Brand_Xiaomi Poco</th>\n",
       "      <th>Brand_Yu</th>\n",
       "      <th>Brand_iVooMi</th>\n",
       "      <th>class</th>\n",
       "    </tr>\n",
       "    <tr>\n",
       "      <th>PhoneId</th>\n",
       "      <th></th>\n",
       "      <th></th>\n",
       "      <th></th>\n",
       "      <th></th>\n",
       "      <th></th>\n",
       "      <th></th>\n",
       "      <th></th>\n",
       "      <th></th>\n",
       "      <th></th>\n",
       "      <th></th>\n",
       "      <th></th>\n",
       "      <th></th>\n",
       "      <th></th>\n",
       "      <th></th>\n",
       "      <th></th>\n",
       "      <th></th>\n",
       "      <th></th>\n",
       "      <th></th>\n",
       "      <th></th>\n",
       "      <th></th>\n",
       "      <th></th>\n",
       "    </tr>\n",
       "  </thead>\n",
       "  <tbody>\n",
       "    <tr>\n",
       "      <th>0</th>\n",
       "      <td>1</td>\n",
       "      <td>1</td>\n",
       "      <td>0</td>\n",
       "      <td>1</td>\n",
       "      <td>1</td>\n",
       "      <td>1</td>\n",
       "      <td>1</td>\n",
       "      <td>1</td>\n",
       "      <td>1</td>\n",
       "      <td>0</td>\n",
       "      <td>...</td>\n",
       "      <td>False</td>\n",
       "      <td>False</td>\n",
       "      <td>False</td>\n",
       "      <td>False</td>\n",
       "      <td>False</td>\n",
       "      <td>True</td>\n",
       "      <td>False</td>\n",
       "      <td>False</td>\n",
       "      <td>False</td>\n",
       "      <td>1</td>\n",
       "    </tr>\n",
       "    <tr>\n",
       "      <th>1</th>\n",
       "      <td>1</td>\n",
       "      <td>1</td>\n",
       "      <td>0</td>\n",
       "      <td>1</td>\n",
       "      <td>1</td>\n",
       "      <td>1</td>\n",
       "      <td>1</td>\n",
       "      <td>1</td>\n",
       "      <td>1</td>\n",
       "      <td>0</td>\n",
       "      <td>...</td>\n",
       "      <td>False</td>\n",
       "      <td>False</td>\n",
       "      <td>False</td>\n",
       "      <td>False</td>\n",
       "      <td>False</td>\n",
       "      <td>False</td>\n",
       "      <td>False</td>\n",
       "      <td>False</td>\n",
       "      <td>False</td>\n",
       "      <td>1</td>\n",
       "    </tr>\n",
       "    <tr>\n",
       "      <th>2</th>\n",
       "      <td>1</td>\n",
       "      <td>1</td>\n",
       "      <td>0</td>\n",
       "      <td>1</td>\n",
       "      <td>1</td>\n",
       "      <td>1</td>\n",
       "      <td>1</td>\n",
       "      <td>1</td>\n",
       "      <td>1</td>\n",
       "      <td>1</td>\n",
       "      <td>...</td>\n",
       "      <td>False</td>\n",
       "      <td>False</td>\n",
       "      <td>False</td>\n",
       "      <td>False</td>\n",
       "      <td>False</td>\n",
       "      <td>False</td>\n",
       "      <td>False</td>\n",
       "      <td>False</td>\n",
       "      <td>False</td>\n",
       "      <td>1</td>\n",
       "    </tr>\n",
       "    <tr>\n",
       "      <th>4</th>\n",
       "      <td>1</td>\n",
       "      <td>1</td>\n",
       "      <td>0</td>\n",
       "      <td>1</td>\n",
       "      <td>1</td>\n",
       "      <td>1</td>\n",
       "      <td>1</td>\n",
       "      <td>1</td>\n",
       "      <td>1</td>\n",
       "      <td>0</td>\n",
       "      <td>...</td>\n",
       "      <td>False</td>\n",
       "      <td>False</td>\n",
       "      <td>False</td>\n",
       "      <td>False</td>\n",
       "      <td>False</td>\n",
       "      <td>False</td>\n",
       "      <td>False</td>\n",
       "      <td>False</td>\n",
       "      <td>False</td>\n",
       "      <td>1</td>\n",
       "    </tr>\n",
       "    <tr>\n",
       "      <th>5</th>\n",
       "      <td>1</td>\n",
       "      <td>1</td>\n",
       "      <td>0</td>\n",
       "      <td>1</td>\n",
       "      <td>1</td>\n",
       "      <td>1</td>\n",
       "      <td>1</td>\n",
       "      <td>1</td>\n",
       "      <td>1</td>\n",
       "      <td>1</td>\n",
       "      <td>...</td>\n",
       "      <td>False</td>\n",
       "      <td>False</td>\n",
       "      <td>False</td>\n",
       "      <td>False</td>\n",
       "      <td>False</td>\n",
       "      <td>False</td>\n",
       "      <td>False</td>\n",
       "      <td>False</td>\n",
       "      <td>False</td>\n",
       "      <td>1</td>\n",
       "    </tr>\n",
       "  </tbody>\n",
       "</table>\n",
       "<p>5 rows × 84 columns</p>\n",
       "</div>"
      ],
      "text/plain": [
       "         Resolution  Internal Memory  Height  Weight  Screen Size  RAM  \\\n",
       "PhoneId                                                                  \n",
       "0                 1                1       0       1            1    1   \n",
       "1                 1                1       0       1            1    1   \n",
       "2                 1                1       0       1            1    1   \n",
       "4                 1                1       0       1            1    1   \n",
       "5                 1                1       0       1            1    1   \n",
       "\n",
       "         Capacity  Pixel Density  Processor_frequency  \\\n",
       "PhoneId                                                 \n",
       "0               1              1                    1   \n",
       "1               1              1                    1   \n",
       "2               1              1                    1   \n",
       "4               1              1                    1   \n",
       "5               1              1                    1   \n",
       "\n",
       "         Screen to Body Ratio (calculated)  ...  Brand_Sony  Brand_Tecno  \\\n",
       "PhoneId                                     ...                            \n",
       "0                                        0  ...       False        False   \n",
       "1                                        0  ...       False        False   \n",
       "2                                        1  ...       False        False   \n",
       "4                                        0  ...       False        False   \n",
       "5                                        1  ...       False        False   \n",
       "\n",
       "         Brand_Ulefone  Brand_VOTO  Brand_Vivo  Brand_Xiaomi  \\\n",
       "PhoneId                                                        \n",
       "0                False       False       False          True   \n",
       "1                False       False       False         False   \n",
       "2                False       False       False         False   \n",
       "4                False       False       False         False   \n",
       "5                False       False       False         False   \n",
       "\n",
       "         Brand_Xiaomi Poco  Brand_Yu  Brand_iVooMi  class  \n",
       "PhoneId                                                    \n",
       "0                    False     False         False      1  \n",
       "1                    False     False         False      1  \n",
       "2                    False     False         False      1  \n",
       "4                    False     False         False      1  \n",
       "5                    False     False         False      1  \n",
       "\n",
       "[5 rows x 84 columns]"
      ]
     },
     "execution_count": 80,
     "metadata": {},
     "output_type": "execute_result"
    }
   ],
   "source": [
    "train_new_2.head()"
   ]
  },
  {
   "cell_type": "markdown",
   "metadata": {},
   "source": [
    "## MP Neuron Model"
   ]
  },
  {
   "cell_type": "code",
   "execution_count": 81,
   "metadata": {},
   "outputs": [],
   "source": [
    "x_train=train_new_2.drop('class',axis=1)\n",
    "y_train=train_new_2['class']"
   ]
  },
  {
   "cell_type": "code",
   "execution_count": 82,
   "metadata": {},
   "outputs": [],
   "source": [
    "x_train_array=x_train.values\n",
    "y_train_array=y_train.values"
   ]
  },
  {
   "cell_type": "code",
   "execution_count": 83,
   "metadata": {},
   "outputs": [],
   "source": [
    "class MP_Neuron:\n",
    "    def __init__(self):\n",
    "        self.b=None\n",
    "        \n",
    "    def model(self,x):\n",
    "        return (sum(x)>=self.b)\n",
    "    \n",
    "    def predict(self,X):\n",
    "        Y=[]\n",
    "        for x in X:\n",
    "            y=self.model(x)\n",
    "            Y.append(y)\n",
    "        return np.array(Y)\n",
    "    \n",
    "    def fit(self,X,Y):\n",
    "        accuracy={}\n",
    "        for b in range(X.shape[1]+1):\n",
    "            self.b=b\n",
    "            Y_pred=self.predict(X)\n",
    "            accuracy[b]=accuracy_score(Y_pred,Y)\n",
    "        best_b=max(accuracy,key=accuracy.get)\n",
    "        self.b=best_b\n",
    "        print(\"The optimal value of threshold is=\",self.b,\" with an accuracy=\",accuracy[self.b])  \n",
    "        return accuracy"
   ]
  },
  {
   "cell_type": "code",
   "execution_count": 84,
   "metadata": {},
   "outputs": [
    {
     "name": "stdout",
     "output_type": "stream",
     "text": [
      "The optimal value of threshold is= 10  with an accuracy= 0.7419354838709677\n"
     ]
    },
    {
     "data": {
      "text/plain": [
       "{0: 0.6979472140762464,\n",
       " 1: 0.6979472140762464,\n",
       " 2: 0.6979472140762464,\n",
       " 3: 0.6979472140762464,\n",
       " 4: 0.6979472140762464,\n",
       " 5: 0.6979472140762464,\n",
       " 6: 0.6979472140762464,\n",
       " 7: 0.7008797653958945,\n",
       " 8: 0.7214076246334311,\n",
       " 9: 0.7390029325513197,\n",
       " 10: 0.7419354838709677,\n",
       " 11: 0.7360703812316716,\n",
       " 12: 0.7155425219941349,\n",
       " 13: 0.6744868035190615,\n",
       " 14: 0.5454545454545454,\n",
       " 15: 0.44574780058651026,\n",
       " 16: 0.3020527859237537,\n",
       " 17: 0.3020527859237537,\n",
       " 18: 0.3020527859237537,\n",
       " 19: 0.3020527859237537,\n",
       " 20: 0.3020527859237537,\n",
       " 21: 0.3020527859237537,\n",
       " 22: 0.3020527859237537,\n",
       " 23: 0.3020527859237537,\n",
       " 24: 0.3020527859237537,\n",
       " 25: 0.3020527859237537,\n",
       " 26: 0.3020527859237537,\n",
       " 27: 0.3020527859237537,\n",
       " 28: 0.3020527859237537,\n",
       " 29: 0.3020527859237537,\n",
       " 30: 0.3020527859237537,\n",
       " 31: 0.3020527859237537,\n",
       " 32: 0.3020527859237537,\n",
       " 33: 0.3020527859237537,\n",
       " 34: 0.3020527859237537,\n",
       " 35: 0.3020527859237537,\n",
       " 36: 0.3020527859237537,\n",
       " 37: 0.3020527859237537,\n",
       " 38: 0.3020527859237537,\n",
       " 39: 0.3020527859237537,\n",
       " 40: 0.3020527859237537,\n",
       " 41: 0.3020527859237537,\n",
       " 42: 0.3020527859237537,\n",
       " 43: 0.3020527859237537,\n",
       " 44: 0.3020527859237537,\n",
       " 45: 0.3020527859237537,\n",
       " 46: 0.3020527859237537,\n",
       " 47: 0.3020527859237537,\n",
       " 48: 0.3020527859237537,\n",
       " 49: 0.3020527859237537,\n",
       " 50: 0.3020527859237537,\n",
       " 51: 0.3020527859237537,\n",
       " 52: 0.3020527859237537,\n",
       " 53: 0.3020527859237537,\n",
       " 54: 0.3020527859237537,\n",
       " 55: 0.3020527859237537,\n",
       " 56: 0.3020527859237537,\n",
       " 57: 0.3020527859237537,\n",
       " 58: 0.3020527859237537,\n",
       " 59: 0.3020527859237537,\n",
       " 60: 0.3020527859237537,\n",
       " 61: 0.3020527859237537,\n",
       " 62: 0.3020527859237537,\n",
       " 63: 0.3020527859237537,\n",
       " 64: 0.3020527859237537,\n",
       " 65: 0.3020527859237537,\n",
       " 66: 0.3020527859237537,\n",
       " 67: 0.3020527859237537,\n",
       " 68: 0.3020527859237537,\n",
       " 69: 0.3020527859237537,\n",
       " 70: 0.3020527859237537,\n",
       " 71: 0.3020527859237537,\n",
       " 72: 0.3020527859237537,\n",
       " 73: 0.3020527859237537,\n",
       " 74: 0.3020527859237537,\n",
       " 75: 0.3020527859237537,\n",
       " 76: 0.3020527859237537,\n",
       " 77: 0.3020527859237537,\n",
       " 78: 0.3020527859237537,\n",
       " 79: 0.3020527859237537,\n",
       " 80: 0.3020527859237537,\n",
       " 81: 0.3020527859237537,\n",
       " 82: 0.3020527859237537,\n",
       " 83: 0.3020527859237537}"
      ]
     },
     "execution_count": 84,
     "metadata": {},
     "output_type": "execute_result"
    }
   ],
   "source": [
    "mp_neuron=MP_Neuron()\n",
    "mp_neuron.fit(x_train_array,y_train_array)"
   ]
  },
  {
   "cell_type": "code",
   "execution_count": 85,
   "metadata": {},
   "outputs": [],
   "source": [
    "test_new_1=test_new.drop('PhoneId',axis=1)"
   ]
  },
  {
   "cell_type": "code",
   "execution_count": 87,
   "metadata": {},
   "outputs": [],
   "source": [
    "test_new_1[\"Resolution\"] = test_new_1[\"Resolution\"].map(lambda x: 1 if x>=5 else 0)\n",
    "\n",
    "test_new_1[\"Capacity\"] = test_new_1[\"Capacity\"].map(lambda x: 1 if x>=3100 else 0)\n",
    "test_new_1['Screen to Body Ratio (calculated)']=test_new_1['Screen to Body Ratio (calculated)'].map(lambda x: 1 if x>=81 else 0)\n",
    "test_new_1['Processor_frequency']=test_new_1['Processor_frequency'].map(lambda x: 1 if x>1.75 else 0)\n",
    "test_new_1['Height']=test_new_1['Height'].map(lambda x: 1 if x>=165 else 0)\n",
    "test_new_1['RAM']=test_new_1['RAM'].map(lambda x: 0 if x<=1 else 1)\n",
    "test_new_1['Screen Size']=test_new_1['Screen Size'].map(lambda x: 1 if x>4.6 else 0)\n",
    "test_new_1['Weight']=test_new_1['Weight'].map(lambda x: 1 if x>128 else 0)\n",
    "test_new_1['Internal Memory']=test_new_1['Internal Memory'].map(lambda x: 1 if x>=16 else 0)\n",
    "test_new_1['Pixel Density']=test_new_1['Pixel Density'].map(lambda x: 1 if x>=234 else 0)"
   ]
  },
  {
   "cell_type": "code",
   "execution_count": 88,
   "metadata": {},
   "outputs": [],
   "source": [
    "#dropping columns which have only one kind of values\n",
    "# Drop column: 'Brand_Billion'\n",
    "test_new_1 = test_new_1.drop(columns=['Brand_Billion'])\n",
    "\n",
    "# Drop column: 'Brand_Spice'\n",
    "test_new_1 = test_new_1.drop(columns=['Brand_Spice'])\n",
    "\n",
    "# Drop column: 'Brand_Do'\n",
    "test_new_1 = test_new_1.drop(columns=['Brand_Do'])"
   ]
  },
  {
   "cell_type": "code",
   "execution_count": 91,
   "metadata": {},
   "outputs": [],
   "source": [
    "# Generate predictions for the test set\n",
    "test_predictions = mp_neuron.predict(test_new_1.values)\n",
    "\n",
    "# Create a DataFrame for submission\n",
    "submission = pd.DataFrame({\n",
    "    'phoneId': test['PhoneId'],\n",
    "    'class': test_predictions.astype(int)\n",
    "})\n",
    "\n",
    "# Write to submission.csv\n",
    "submission.to_csv('submission.csv', index=False)"
   ]
  }
 ],
 "metadata": {
  "kernelspec": {
   "display_name": "mldl",
   "language": "python",
   "name": "python3"
  },
  "language_info": {
   "codemirror_mode": {
    "name": "ipython",
    "version": 3
   },
   "file_extension": ".py",
   "mimetype": "text/x-python",
   "name": "python",
   "nbconvert_exporter": "python",
   "pygments_lexer": "ipython3",
   "version": "3.13.2"
  }
 },
 "nbformat": 4,
 "nbformat_minor": 2
}
